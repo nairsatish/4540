{
  "nbformat": 4,
  "nbformat_minor": 0,
  "metadata": {
    "colab": {
      "provenance": [],
      "include_colab_link": true
    },
    "kernelspec": {
      "name": "python3",
      "display_name": "Python 3"
    },
    "language_info": {
      "name": "python"
    }
  },
  "cells": [
    {
      "cell_type": "markdown",
      "metadata": {
        "id": "view-in-github",
        "colab_type": "text"
      },
      "source": [
        "<a href=\"https://colab.research.google.com/github/nairsatish/4540/blob/master/logistic_regression_simple.ipynb\" target=\"_parent\"><img src=\"https://colab.research.google.com/assets/colab-badge.svg\" alt=\"Open In Colab\"/></a>"
      ]
    },
    {
      "cell_type": "markdown",
      "source": [
        "# Defining and visualizing data"
      ],
      "metadata": {
        "id": "25vAq9k4-X69"
      }
    },
    {
      "cell_type": "code",
      "execution_count": 1,
      "metadata": {
        "colab": {
          "base_uri": "https://localhost:8080/",
          "height": 571
        },
        "id": "GZ955CJD49KY",
        "outputId": "e29a1acc-0695-43e8-d269-87e7ef084191"
      },
      "outputs": [
        {
          "output_type": "stream",
          "name": "stdout",
          "text": [
            "   x1  x2  y\n",
            "0   1   2  1\n",
            "1   2   4  1\n",
            "2   3   6  1\n",
            "3   4   8  0\n",
            "4   5  10  0\n",
            "5   4   2  1\n"
          ]
        },
        {
          "output_type": "display_data",
          "data": {
            "text/plain": [
              "<Figure size 640x480 with 1 Axes>"
            ],
            "image/png": "[encoded data removed]"
          },
          "metadata": {}
        }
      ],
      "source": [
        "import matplotlib.pyplot as plt\n",
        "import pandas as pd\n",
        "\n",
        "#some values for training data\n",
        "data = {\n",
        "  \"x1\": [1, 2, 3, 4, 5, 4],\n",
        "  \"x2\": [2, 4, 6, 8, 10, 2],\n",
        "  \"y\": [1, 1, 1, 0, 0, 1]\n",
        "}\n",
        "\n",
        "df = pd.DataFrame(data)\n",
        "print(df)\n",
        "\n",
        "#separate data into two frames depending on y\n",
        "type1 = df[df['y'] == 1]\n",
        "type0 = df[df['y'] == 0]\n",
        "\n",
        "#plot\n",
        "plt.scatter(type1['x1'], type1['x2'], marker='x', color='r')\n",
        "plt.scatter(type0['x1'], type0['x2'], marker='o', color='b')\n",
        "plt.xlabel('x1')\n",
        "plt.ylabel('x2')\n",
        "plt.show()\n"
      ]
    },
    {
      "cell_type": "markdown",
      "source": [
        "# Functions for logistic regression\n",
        "- The number of features is n\n",
        "- The number of samples is m\n",
        "- Each feature is denoted as x_j\n",
        "- The output variable is denoted as y\n",
        "- i is the index of a sample in the training set\n",
        "- x[i] is an (n+1)-length list of the features of the ith sample\n",
        "- x[i][j] is the j'th feature of the i'th sample\n",
        "\n",
        "Sorry for all the for loops. I'm not 100% on how to perform operations on whole sets"
      ],
      "metadata": {
        "id": "MMiDmld5CNWn"
      }
    },
    {
      "cell_type": "code",
      "source": [
        "from math import e\n",
        "from math import log\n",
        "\n",
        "#the logistic function\n",
        "def g(z):\n",
        "  return 1/(1+pow(e, -z))\n",
        "\n",
        "#returns the predicted value for an input given a hypothesis function\n",
        "# theta = parameters = 1-dimensional set w/ length n+1\n",
        "# x = 1-dimensional set w/ length n+1\n",
        "def h(theta, x):\n",
        "  n = len(theta)\n",
        "  z = 0\n",
        "  i = 0\n",
        "  for i in range(n):\n",
        "    z += theta[i] * x[i]\n",
        "  return g(z)\n",
        "\n",
        "#returns the cost of a hypothesis given one sample\n",
        "# theta = parameters = 1-dimensional set w/ length n+1\n",
        "# x = 1-dimensional set w/ length n+1\n",
        "# y = an integer, 1 or 0\n",
        "def cost(theta, x, y):\n",
        "  try:\n",
        "    c = -y*log(h(theta, x)) - (1-y)*log(1-h(theta, x))\n",
        "  except ValueError: #this error occurs if h is 1 or 0.\n",
        "    c = abs(h(theta, x) - y)\n",
        "  return c\n",
        "\n",
        "#returns the average cost for all samples with a given hypothesis\n",
        "# theta = 1-dimensional set w/ length n+1\n",
        "# x = 2d array\n",
        "# y = 1-dimensional set w/ length m\n",
        "def J(theta, x, y):\n",
        "  sum = 0\n",
        "  i = 0\n",
        "  m = len(x)\n",
        "  for i in range(m):\n",
        "    sum += cost(theta, x.loc[i], y.loc[i])\n",
        "  avg = sum / m\n",
        "  return avg\n"
      ],
      "metadata": {
        "id": "SXX5-14c_SOa"
      },
      "execution_count": 2,
      "outputs": []
    },
    {
      "cell_type": "markdown",
      "source": [
        "# Evaluating hypothesis"
      ],
      "metadata": {
        "id": "hU1oQLMyZHiB"
      }
    },
    {
      "cell_type": "code",
      "source": [
        "import numpy as np\n",
        "\n",
        "#add x0 to data\n",
        "m = len(data[\"x1\"])\n",
        "x0 = [1] * m\n",
        "df[\"x0\"] = x0\n",
        "\n",
        "#some values for the parameters\n",
        "theta = [9, -1.5, -.5]\n",
        "#show the hypothesis line\n",
        "#the decision boundary is the line where z = 0\n",
        "hx = np.linspace(2, 5, 2)\n",
        "hy = (theta[0] + theta[1]*hx) / -theta[2]\n",
        "plt.plot(hx, hy)\n",
        "\n",
        "#plot the original data\n",
        "plt.scatter(type1['x1'], type1['x2'], marker='x', color='r')\n",
        "plt.scatter(type0['x1'], type0['x2'], marker='o', color='b')\n",
        "plt.xlabel('x1')\n",
        "plt.ylabel('x2')\n",
        "plt.show()\n",
        "\n",
        "#separate out x\n",
        "x = df[['x0','x1','x2']]\n",
        "#calculate h(x) for each x and add it to the dataframe\n",
        "i=0\n",
        "hypo=[]\n",
        "for i in range(m):\n",
        "  hypo.append(h(theta, x.loc[i]))\n",
        "df['h'] = hypo\n",
        "df = df[[\"x0\",'x1','x2','y','h']]\n",
        "\n",
        "#Show results\n",
        "print(df)\n",
        "print(\"J:\", J(theta, x, df['y'])) #J"
      ],
      "metadata": {
        "id": "6UPF8T6JJvZP",
        "colab": {
          "base_uri": "https://localhost:8080/",
          "height": 588
        },
        "outputId": "c935d9b0-cd22-4f80-df15-678d7b7bd8f2"
      },
      "execution_count": 3,
      "outputs": [
        {
          "output_type": "display_data",
          "data": {
            "text/plain": [
              "<Figure size 640x480 with 1 Axes>"
            ],
            "image/png": "[encoded data removed]"
          },
          "metadata": {}
        },
        {
          "output_type": "stream",
          "name": "stdout",
          "text": [
            "   x0  x1  x2  y         h\n",
            "0   1   1   2  1  0.998499\n",
            "1   1   2   4  1  0.982014\n",
            "2   1   3   6  1  0.817574\n",
            "3   1   4   8  0  0.268941\n",
            "4   1   5  10  0  0.029312\n",
            "5   1   4   2  1  0.880797\n",
            "J: 0.11516760548235543\n"
          ]
        }
      ]
    }
  ]
}