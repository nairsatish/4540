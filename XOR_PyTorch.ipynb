{
  "cells": [
    {
      "cell_type": "markdown",
      "metadata": {
        "id": "view-in-github",
        "colab_type": "text"
      },
      "source": [
        "<a href=\"https://colab.research.google.com/github/nairsatish/4540/blob/master/XOR_PyTorch.ipynb\" target=\"_parent\"><img src=\"https://colab.research.google.com/assets/colab-badge.svg\" alt=\"Open In Colab\"/></a>"
      ]
    },
    {
      "cell_type": "markdown",
      "source": [
        "EXAMPLE OF AN XOR NETWORK - 2 neurons (input) in layer 1 and 1 neuron (output) in layer 2\n",
        "See \"Helpful Tips\" at the end of the notebook"
      ],
      "metadata": {
        "id": "EvV5yiNUbCzm"
      }
    },
    {
      "cell_type": "code",
      "execution_count": null,
      "metadata": {
        "colab": {
          "base_uri": "https://localhost:8080/"
        },
        "id": "NziucDl6yuoW",
        "outputId": "fccde0d6-2396-4822-a6b7-314fd2f3e0b3"
      },
      "outputs": [
        {
          "output_type": "execute_result",
          "data": {
            "text/plain": [
              "<torch._C.Generator at 0x7f55282974f0>"
            ]
          },
          "metadata": {},
          "execution_count": 1
        }
      ],
      "source": [
        "import torch\n",
        "import torch.nn as nn\n",
        "import torch.optim as optim\n",
        "import numpy as np\n",
        "import matplotlib.pyplot as plt\n",
        "%matplotlib inline\n",
        "torch.manual_seed(2)"
      ]
    },
    {
      "cell_type": "code",
      "execution_count": null,
      "metadata": {
        "id": "rXjDBsiOy8lV"
      },
      "outputs": [],
      "source": [
        "X = torch.Tensor([[0,0],[0,1], [1,0], [1,1]])\n",
        "Y = torch.Tensor([0,1,1,0]).view(-1,1)"
      ]
    },
    {
      "cell_type": "code",
      "execution_count": null,
      "metadata": {
        "id": "Qwl3sHRnzDQQ"
      },
      "outputs": [],
      "source": [
        "class XOR(nn.Module):\n",
        "    def __init__(self, input_dim = 2, output_dim=1):\n",
        "        super(XOR, self).__init__()\n",
        "        self.lin1 = nn.Linear(input_dim, 2)\n",
        "        self.lin2 = nn.Linear(2, output_dim)\n",
        "    \n",
        "    def forward(self, x):\n",
        "        x = self.lin1(x)\n",
        "        x = torch.sigmoid(x)\n",
        "        x = self.lin2(x)\n",
        "        return x"
      ]
    },
    {
      "cell_type": "code",
      "execution_count": null,
      "metadata": {
        "id": "IXcZnxYRzJ58"
      },
      "outputs": [],
      "source": [
        "model = XOR()"
      ]
    },
    {
      "cell_type": "code",
      "execution_count": null,
      "metadata": {
        "id": "lIgvHHsszLo1",
        "colab": {
          "base_uri": "https://localhost:8080/"
        },
        "outputId": "5b51c1d3-5f16-47b7-d182-a5c958e84b49"
      },
      "outputs": [
        {
          "output_type": "stream",
          "name": "stdout",
          "text": [
            "[XOR(\n",
            "  (lin1): Linear(in_features=2, out_features=2, bias=True)\n",
            "  (lin2): Linear(in_features=2, out_features=1, bias=True)\n",
            "), Linear(in_features=2, out_features=2, bias=True), Linear(in_features=2, out_features=1, bias=True)]\n"
          ]
        }
      ],
      "source": [
        "def weights_init(model):\n",
        "    print(list(model.modules())) # network from above printed out\n",
        "    for m in model.modules():\n",
        "        if isinstance(m, nn.Linear):\n",
        "            # initialize the weight tensor, here we use a normal distribution\n",
        "            m.weight.data.normal_(0, 1)\n",
        "\n",
        "weights_init(model) # may not be needed but used to show the idea"
      ]
    },
    {
      "cell_type": "code",
      "execution_count": null,
      "metadata": {
        "id": "yqkxJx0CzPce"
      },
      "outputs": [],
      "source": [
        "loss_func = nn.MSELoss()"
      ]
    },
    {
      "cell_type": "code",
      "execution_count": null,
      "metadata": {
        "id": "zC-ffgFPzTb5"
      },
      "outputs": [],
      "source": [
        "optimizer = optim.SGD(model.parameters(), lr=0.02, momentum=0.9)"
      ]
    },
    {
      "cell_type": "code",
      "execution_count": null,
      "metadata": {
        "id": "wB8zkbQEzXyo",
        "colab": {
          "base_uri": "https://localhost:8080/"
        },
        "outputId": "21b2ad07-97a4-434b-c994-a9034ba89468"
      },
      "outputs": [
        {
          "output_type": "stream",
          "name": "stdout",
          "text": [
            "Epoch: 0, Loss: 4.384138584136963, \n",
            "Epoch: 500, Loss: 0.004396231845021248, \n",
            "Epoch: 1000, Loss: 1.7408297026122455e-13, \n",
            "Epoch: 1500, Loss: 1.4210854715202004e-14, \n",
            "Epoch: 2000, Loss: 0.0, \n"
          ]
        }
      ],
      "source": [
        "epochs = 2001\n",
        "steps = X.size(0)\n",
        "for i in range(epochs):\n",
        "    for j in range(steps):\n",
        "        data_point = np.random.randint(X.size(0))\n",
        "        \n",
        "        optimizer.zero_grad()\n",
        "        y_hat = model(X[data_point])\n",
        "        loss = loss_func.forward(y_hat, Y[data_point])\n",
        "        loss.backward()\n",
        "        optimizer.step()\n",
        "        \n",
        "    if i % 500 == 0:\n",
        "         print(\"Epoch: {0}, Loss: {1}, \".format(i, loss.data.numpy()))\n"
      ]
    },
    {
      "cell_type": "code",
      "execution_count": null,
      "metadata": {
        "id": "auCBHzWf136b",
        "colab": {
          "base_uri": "https://localhost:8080/"
        },
        "outputId": "d6fa06bc-470e-4cc4-f677-bf4fbdf6b63b"
      },
      "outputs": [
        {
          "output_type": "stream",
          "name": "stdout",
          "text": [
            "[('lin1.weight', Parameter containing:\n",
            "tensor([[-4.9081, -3.7309],\n",
            "        [-1.5793, -1.4781]], requires_grad=True)), ('lin1.bias', Parameter containing:\n",
            "tensor([0.3874, 1.6813], requires_grad=True)), ('lin2.weight', Parameter containing:\n",
            "tensor([[-3.4472,  3.1997]], requires_grad=True)), ('lin2.bias', Parameter containing:\n",
            "tensor([-0.6443], requires_grad=True))]\n"
          ]
        }
      ],
      "source": [
        "model_params = list(model.named_parameters())\n",
        "print(model_params)\n",
        "model_params = list(model.parameters()) # used to make below cell better"
      ]
    },
    {
      "cell_type": "code",
      "execution_count": null,
      "metadata": {
        "colab": {
          "base_uri": "https://localhost:8080/",
          "height": 265
        },
        "id": "hdUTc_ji18WA",
        "outputId": "e02df9f9-7a99-40fc-cf8b-bb7dbb6edf94"
      },
      "outputs": [
        {
          "output_type": "display_data",
          "data": {
            "text/plain": [
              "<Figure size 432x288 with 1 Axes>"
            ],
            "image/png": "[encoded data removed]"
          },
          "metadata": {
            "needs_background": "light"
          }
        }
      ],
      "source": [
        "model_weights = model_params[0].data.numpy()\n",
        "model_bias = model_params[1].data.numpy()\n",
        "\n",
        "plt.scatter(X.numpy()[[0,-1], 0], X.numpy()[[0, -1], 1], s=50)\n",
        "plt.scatter(X.numpy()[[1,2], 0], X.numpy()[[1, 2], 1], c='red', s=50)\n",
        "\n",
        "x_1 = np.arange(-0.1, 1.1, 0.1)\n",
        "y_1 = ((x_1 * model_weights[0,0]) + model_bias[0]) / (-model_weights[0,1])\n",
        "plt.plot(x_1, y_1)\n",
        "\n",
        "x_2 = np.arange(-0.1, 1.1, 0.1)\n",
        "y_2 = ((x_2 * model_weights[1,0]) + model_bias[1]) / (-model_weights[1,1])\n",
        "plt.plot(x_2, y_2)\n",
        "plt.legend([\"neuron_1\", \"neuron_2\"], loc=8)\n",
        "plt.show()"
      ]
    },
    {
      "cell_type": "markdown",
      "source": [
        "HELPFUL TIPS\n",
        "\n",
        ">>> x = torch.tensor([[1, 2, 3], [4, 5, 6]])\n",
        ">>> print(x[1][2])\n",
        "tensor(6)\n",
        ">>> x[0][1] = 8\n",
        ">>> print(x)\n",
        "tensor([[ 1,  8,  3],\n",
        "        [ 4,  5,  6]])"
      ],
      "metadata": {
        "id": "LSvsUe1Ka5t9"
      }
    }
  ],
  "metadata": {
    "colab": {
      "provenance": [],
      "include_colab_link": true
    },
    "kernelspec": {
      "display_name": "Python 3",
      "name": "python3"
    },
    "language_info": {
      "codemirror_mode": {
        "name": "ipython",
        "version": 3
      },
      "file_extension": ".py",
      "mimetype": "text/x-python",
      "name": "python",
      "nbconvert_exporter": "python",
      "pygments_lexer": "ipython3",
      "version": "3.8.16"
    }
  },
  "nbformat": 4,
  "nbformat_minor": 0
}