{
  "cells": [
    {
      "cell_type": "markdown",
      "metadata": {
        "id": "view-in-github",
        "colab_type": "text"
      },
      "source": [
        "<a href=\"https://colab.research.google.com/github/nairsatish/4540/blob/master/XOR_PyTorch.ipynb\" target=\"_parent\"><img src=\"https://colab.research.google.com/assets/colab-badge.svg\" alt=\"Open In Colab\"/></a>"
      ]
    },
    {
      "cell_type": "markdown",
      "source": [
        "https://brilliant.org/wiki/backpropagation/"
      ],
      "metadata": {
        "id": "LwgeRHVBB0gy"
      }
    },
    {
      "cell_type": "markdown",
      "source": [
        "Absolutely simplest back propagation example (version 2) https://www.youtube.com/watch?v=8d6jf7s6_Qs\n",
        "\n",
        "A worked example with more neurons - https://www.youtube.com/watch?v=n2L1J5JYgUk"
      ],
      "metadata": {
        "id": "FG41LtB1FuTt"
      }
    },
    {
      "cell_type": "markdown",
      "source": [
        "EXAMPLE OF AN XOR NETWORK - 2 neurons (input) in layer 1 and 1 neuron (output) in layer 2\n",
        "See \"Helpful Tips\" at the end of the notebook"
      ],
      "metadata": {
        "id": "EvV5yiNUbCzm"
      }
    },
    {
      "cell_type": "code",
      "execution_count": null,
      "metadata": {
        "id": "NziucDl6yuoW",
        "colab": {
          "base_uri": "https://localhost:8080/"
        },
        "outputId": "1bb8c36d-1803-482b-ad5e-55ddae16a31a"
      },
      "outputs": [
        {
          "output_type": "execute_result",
          "data": {
            "text/plain": [
              "<torch._C.Generator at 0x7f63fc20d070>"
            ]
          },
          "metadata": {},
          "execution_count": 1
        }
      ],
      "source": [
        "import torch\n",
        "import torch.nn as nn\n",
        "import torch.optim as optim\n",
        "import numpy as np\n",
        "import matplotlib.pyplot as plt\n",
        "torch.manual_seed(2)"
      ]
    },
    {
      "cell_type": "markdown",
      "source": [
        "INPUT/DATA"
      ],
      "metadata": {
        "id": "CgYNy37VIn00"
      }
    },
    {
      "cell_type": "code",
      "execution_count": null,
      "metadata": {
        "id": "rXjDBsiOy8lV"
      },
      "outputs": [],
      "source": [
        "X = torch.Tensor([[0,0],[0,1], [1,0], [1,1]])\n",
        "Y = torch.Tensor([0,1,1,0]).view(-1,1)"
      ]
    },
    {
      "cell_type": "markdown",
      "source": [
        "HYPOTHESIS/MODEL"
      ],
      "metadata": {
        "id": "-uuARj4AyHot"
      }
    },
    {
      "cell_type": "code",
      "execution_count": null,
      "metadata": {
        "id": "Qwl3sHRnzDQQ"
      },
      "outputs": [],
      "source": [
        "class XOR(nn.Module):\n",
        "    def __init__(self, input_dim = 2, output_dim=1):\n",
        "        # Initialize attributes and methods of the parent class nn.Module\n",
        "        super(XOR, self).__init__()\n",
        "        \n",
        "        # Initialize layers\n",
        "        self.lin1 = nn.Linear(input_dim, 2)\n",
        "        self.lin2 = nn.Linear(2, output_dim)\n",
        "    \n",
        "    # Each custom torch class (inherited from nn.Module) has to have a forward() method\n",
        "    def forward(self, x):\n",
        "        x = self.lin1(x)\n",
        "        x = torch.sigmoid(x)\n",
        "        x = self.lin2(x)\n",
        "        return x"
      ]
    },
    {
      "cell_type": "code",
      "execution_count": null,
      "metadata": {
        "id": "IXcZnxYRzJ58"
      },
      "outputs": [],
      "source": [
        "model = XOR()"
      ]
    },
    {
      "cell_type": "code",
      "execution_count": null,
      "metadata": {
        "id": "lIgvHHsszLo1",
        "colab": {
          "base_uri": "https://localhost:8080/"
        },
        "outputId": "86f67181-b342-49df-9284-350f62bc3ec1"
      },
      "outputs": [
        {
          "output_type": "stream",
          "name": "stdout",
          "text": [
            "[XOR(\n",
            "  (lin1): Linear(in_features=2, out_features=2, bias=True)\n",
            "  (lin2): Linear(in_features=2, out_features=1, bias=True)\n",
            "), Linear(in_features=2, out_features=2, bias=True), Linear(in_features=2, out_features=1, bias=True)]\n"
          ]
        }
      ],
      "source": [
        "def weights_init(model):\n",
        "    print(list(model.modules())) # network from above printed out\n",
        "    for m in model.modules():\n",
        "        if isinstance(m, nn.Linear):\n",
        "            # initialize the weight tensor, here we use a normal distribution\n",
        "            m.weight.data.normal_(0, 1)\n",
        "            m.bias.data.normal_(0, 1)\n",
        "\n",
        "weights_init(model) # may not be needed but used to show the idea"
      ]
    },
    {
      "cell_type": "markdown",
      "source": [
        "COST or LOSS FUNCTION"
      ],
      "metadata": {
        "id": "nkeust3zyYwU"
      }
    },
    {
      "cell_type": "code",
      "execution_count": null,
      "metadata": {
        "id": "yqkxJx0CzPce"
      },
      "outputs": [],
      "source": [
        "loss_func = nn.MSELoss()"
      ]
    },
    {
      "cell_type": "markdown",
      "source": [
        "UPDATE RULE"
      ],
      "metadata": {
        "id": "uOl_E8OmycFd"
      }
    },
    {
      "cell_type": "code",
      "execution_count": null,
      "metadata": {
        "id": "zC-ffgFPzTb5"
      },
      "outputs": [],
      "source": [
        "optimizer = optim.SGD(model.parameters(), lr=0.02, momentum=0.9) # Another popular optimizer is ADAM"
      ]
    },
    {
      "cell_type": "markdown",
      "source": [
        "SETTING IT ALL UP"
      ],
      "metadata": {
        "id": "KAX8FpUMyg1-"
      }
    },
    {
      "cell_type": "code",
      "execution_count": null,
      "metadata": {
        "id": "wB8zkbQEzXyo",
        "colab": {
          "base_uri": "https://localhost:8080/"
        },
        "outputId": "f7031a11-2e0d-492a-e42f-181582477171"
      },
      "outputs": [
        {
          "output_type": "stream",
          "name": "stdout",
          "text": [
            "First epoch gradients:\n",
            "--------------------\n",
            "\n",
            ">> Step 0:\n",
            "grad(lin2.weight): tensor([[0.5382, 0.4367]])\n",
            "grad(lin2.bias): tensor([2.3838])\n",
            "grad(lin1.weight): tensor([[-0., -0.],\n",
            "        [-0., -0.]])\n",
            "grad(lin1.bias): tensor([-0.1078, -0.6734])\n",
            "\n",
            "\n",
            ">> Step 1:\n",
            "grad(lin2.weight): tensor([[0.5140, 0.4209]])\n",
            "grad(lin2.bias): tensor([2.2725])\n",
            "grad(lin1.weight): tensor([[0., 0.],\n",
            "        [0., 0.]])\n",
            "grad(lin1.bias): tensor([-0.1072, -0.6505])\n",
            "\n",
            "\n",
            ">> Step 2:\n",
            "grad(lin2.weight): tensor([[0.1595, 0.5008]])\n",
            "grad(lin2.bias): tensor([1.1085])\n",
            "grad(lin1.weight): tensor([[-0.0395, -0.0395],\n",
            "        [-0.5252, -0.5252]])\n",
            "grad(lin1.bias): tensor([-0.0395, -0.5252])\n",
            "\n",
            "\n",
            ">> Step 3:\n",
            "grad(lin2.weight): tensor([[0.1192, 0.3835]])\n",
            "grad(lin2.bias): tensor([0.8242])\n",
            "grad(lin1.weight): tensor([[-0.0317, -0.0317],\n",
            "        [-0.3973, -0.3973]])\n",
            "grad(lin1.bias): tensor([-0.0317, -0.3973])\n",
            "\n",
            "\n",
            "\n",
            "Loss History:\n",
            "--------------------\n",
            "Epoch: 0, Loss: 0.1698339879512787, \n",
            "Epoch: 500, Loss: 1.1510792319313623e-12, \n",
            "Epoch: 1000, Loss: 2.2737367544323206e-13, \n",
            "Epoch: 1500, Loss: 5.684341886080802e-14, \n",
            "Epoch: 2000, Loss: 2.220446049250313e-12, \n"
          ]
        }
      ],
      "source": [
        "epochs = 2001\n",
        "steps = X.size(0)\n",
        "for i in range(epochs):\n",
        "    \n",
        "    for j in range(steps):\n",
        "        data_point = np.random.randint(X.size(0))\n",
        "        \n",
        "        optimizer.zero_grad()\n",
        "        y_hat = model(X[data_point])\n",
        "        loss = loss_func.forward(y_hat, Y[data_point]) # loss_func(y_hat, Y[data_point]) also works\n",
        "        \n",
        "        loss.backward() \n",
        "        optimizer.step()\n",
        "\n",
        "        if i == 0:\n",
        "            if j == 0:\n",
        "                print(\"First epoch gradients:\\n--------------------\\n\")\n",
        "            print(f\">> Step {j}:\")\n",
        "            print(f\"grad(lin2.weight): {model.lin2.weight.grad}\")\n",
        "            print(f\"grad(lin2.bias): {model.lin2.bias.grad}\")\n",
        "            print(f\"grad(lin1.weight): {model.lin1.weight.grad}\")\n",
        "            print(f\"grad(lin1.bias): {model.lin1.bias.grad}\")\n",
        "            print(\"\\n\")\n",
        "\n",
        "            if j == steps - 1:\n",
        "                print(\"\\nLoss History:\")\n",
        "                print(\"--------------------\")\n",
        "        \n",
        "    if i % 500 == 0:\n",
        "         print(\"Epoch: {0}, Loss: {1}, \".format(i, loss.data.numpy()))"
      ]
    },
    {
      "cell_type": "code",
      "execution_count": null,
      "metadata": {
        "id": "auCBHzWf136b",
        "colab": {
          "base_uri": "https://localhost:8080/"
        },
        "outputId": "d917702e-b4cf-459c-bfce-cf18a8506c68"
      },
      "outputs": [
        {
          "output_type": "stream",
          "name": "stdout",
          "text": [
            "[('lin1.weight', Parameter containing:\n",
            "tensor([[-2.6121, -2.6029],\n",
            "        [ 2.1288,  2.1237]], requires_grad=True)), ('lin1.bias', Parameter containing:\n",
            "tensor([ 0.1949, -3.4945], requires_grad=True)), ('lin2.weight', Parameter containing:\n",
            "tensor([[-3.1050, -2.5834]], requires_grad=True)), ('lin2.bias', Parameter containing:\n",
            "tensor([1.7795], requires_grad=True))]\n"
          ]
        }
      ],
      "source": [
        "model_params = list(model.named_parameters())\n",
        "print(model_params)\n",
        "model_params = list(model.parameters()) # used to make below cell better"
      ]
    },
    {
      "cell_type": "markdown",
      "source": [
        "USING THE INFO ABOVE, CAN YOU GET THE EQUATIONS OF THE LINES PLOTTED BELOW?"
      ],
      "metadata": {
        "id": "mJxeG6aKy2Gc"
      }
    },
    {
      "cell_type": "code",
      "execution_count": null,
      "metadata": {
        "colab": {
          "base_uri": "https://localhost:8080/",
          "height": 265
        },
        "id": "hdUTc_ji18WA",
        "outputId": "03ac7c0c-6b00-4f7f-deba-d08c9d9c5889"
      },
      "outputs": [
        {
          "output_type": "display_data",
          "data": {
            "text/plain": [
              "<Figure size 432x288 with 1 Axes>"
            ],
            "image/png": "[encoded data removed]"
          },
          "metadata": {
            "needs_background": "light"
          }
        }
      ],
      "source": [
        "model_weights = model_params[0].data.numpy()\n",
        "model_bias = model_params[1].data.numpy()\n",
        "\n",
        "plt.scatter(X.numpy()[[0,-1], 0], X.numpy()[[0, -1], 1], s=50)\n",
        "plt.scatter(X.numpy()[[1,2], 0], X.numpy()[[1, 2], 1], c='red', s=50)\n",
        "\n",
        "# weights(0,0) and (0,1) are from in the (TO,FROM) format, \n",
        "# i.e., to neuron 0(or 1) from input 0(or 1). See Helpful Hints at end\n",
        "x_1 = np.arange(-0.1, 1.1, 0.1)\n",
        "y_1 = ((x_1 * model_weights[0,0]) + model_bias[0]) / (-model_weights[0,1])\n",
        "plt.plot(x_1, y_1)\n",
        "\n",
        "x_2 = np.arange(-0.1, 1.1, 0.1)\n",
        "y_2 = ((x_2 * model_weights[1,0]) + model_bias[1]) / (-model_weights[1,1])\n",
        "plt.plot(x_2, y_2)\n",
        "plt.legend([\"neuron_1\", \"neuron_2\"], loc=8)\n",
        "plt.show()"
      ]
    },
    {
      "cell_type": "markdown",
      "source": [
        "HELPFUL TIPS\n",
        "\n",
        "Documentation - pytorch.org\n",
        "\n",
        "---\n",
        "\n",
        "\n",
        "```\n",
        "x = torch.tensor([[1, 2, 3], [4, 5, 6]])\n",
        "print(x[1][2])\n",
        ">>> tensor(6)\n",
        "```\n",
        "\n",
        "```\n",
        "x[0][1] = 8\n",
        "print(x)\n",
        ">>> tensor([[ 1,  8,  3],\n",
        "            [ 4,  5,  6]])\n",
        "```"
      ],
      "metadata": {
        "id": "LSvsUe1Ka5t9"
      }
    }
  ],
  "metadata": {
    "colab": {
      "provenance": [],
      "include_colab_link": true
    },
    "kernelspec": {
      "display_name": "Python 3",
      "name": "python3"
    },
    "language_info": {
      "codemirror_mode": {
        "name": "ipython",
        "version": 3
      },
      "file_extension": ".py",
      "mimetype": "text/x-python",
      "name": "python",
      "nbconvert_exporter": "python",
      "pygments_lexer": "ipython3",
      "version": "3.8.16"
    },
    "gpuClass": "standard"
  },
  "nbformat": 4,
  "nbformat_minor": 0
}