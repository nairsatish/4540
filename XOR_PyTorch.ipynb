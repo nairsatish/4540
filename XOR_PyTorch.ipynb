{
  "cells": [
    {
      "cell_type": "markdown",
      "metadata": {
        "id": "view-in-github",
        "colab_type": "text"
      },
      "source": [
        "<a href=\"https://colab.research.google.com/github/nairsatish/4540/blob/master/XOR_PyTorch.ipynb\" target=\"_parent\"><img src=\"https://colab.research.google.com/assets/colab-badge.svg\" alt=\"Open In Colab\"/></a>"
      ]
    },
    {
      "cell_type": "markdown",
      "source": [
        "https://brilliant.org/wiki/backpropagation/"
      ],
      "metadata": {
        "id": "LwgeRHVBB0gy"
      }
    },
    {
      "cell_type": "markdown",
      "source": [
        "Absolutely simplest back propagation example (version 2) https://www.youtube.com/watch?v=8d6jf7s6_Qs\n",
        "\n",
        "A worked example with more neurons - https://www.youtube.com/watch?v=n2L1J5JYgUk"
      ],
      "metadata": {
        "id": "FG41LtB1FuTt"
      }
    },
    {
      "cell_type": "markdown",
      "source": [
        "EXAMPLE OF AN XOR NETWORK - 2 neurons (input) in layer 1 and 1 neuron (output) in layer 2\n",
        "See \"Helpful Tips\" at the end of the notebook"
      ],
      "metadata": {
        "id": "EvV5yiNUbCzm"
      }
    },
    {
      "cell_type": "code",
      "execution_count": 13,
      "metadata": {
        "id": "NziucDl6yuoW",
        "colab": {
          "base_uri": "https://localhost:8080/"
        },
        "outputId": "74035ae2-9f9e-4e04-f9a9-45a32ef13ddf"
      },
      "outputs": [
        {
          "output_type": "execute_result",
          "data": {
            "text/plain": [
              "<torch._C.Generator at 0x7839366bd450>"
            ]
          },
          "metadata": {},
          "execution_count": 13
        }
      ],
      "source": [
        "import torch\n",
        "import torch.nn as nn\n",
        "import torch.optim as optim\n",
        "import numpy as np\n",
        "import matplotlib.pyplot as plt\n",
        "torch.manual_seed(2)"
      ]
    },
    {
      "cell_type": "markdown",
      "source": [
        "DATA (input and output for this supervised learning problem)"
      ],
      "metadata": {
        "id": "CgYNy37VIn00"
      }
    },
    {
      "cell_type": "code",
      "execution_count": 14,
      "metadata": {
        "id": "rXjDBsiOy8lV"
      },
      "outputs": [],
      "source": [
        "X = torch.Tensor([[0,0],[0,1], [1,0], [1,1]])\n",
        "Y = torch.Tensor([0,1,1,0]).view(-1,1)"
      ]
    },
    {
      "cell_type": "markdown",
      "source": [
        "HYPOTHESIS/MODEL"
      ],
      "metadata": {
        "id": "-uuARj4AyHot"
      }
    },
    {
      "cell_type": "code",
      "execution_count": 15,
      "metadata": {
        "id": "Qwl3sHRnzDQQ"
      },
      "outputs": [],
      "source": [
        "class XOR(nn.Module):\n",
        "    def __init__(self, input_dim = 2, output_dim=1):\n",
        "        # Initialize attributes and methods of the parent class nn.Module\n",
        "        super(XOR, self).__init__()\n",
        "\n",
        "        # Initialize layers\n",
        "        self.lin1 = nn.Linear(input_dim, 2)\n",
        "        self.lin2 = nn.Linear(2, output_dim)\n",
        "\n",
        "    # Each custom torch class (inherited from nn.Module) has to have a forward() method\n",
        "    def forward(self, x):\n",
        "        x = self.lin1(x)\n",
        "        x = torch.sigmoid(x)\n",
        "        x = self.lin2(x)\n",
        "        return x"
      ]
    },
    {
      "cell_type": "code",
      "execution_count": 16,
      "metadata": {
        "id": "IXcZnxYRzJ58"
      },
      "outputs": [],
      "source": [
        "model = XOR()"
      ]
    },
    {
      "cell_type": "code",
      "execution_count": 17,
      "metadata": {
        "id": "lIgvHHsszLo1",
        "colab": {
          "base_uri": "https://localhost:8080/"
        },
        "outputId": "dc3bfe71-2eb0-45e2-c958-9972dfd153a3"
      },
      "outputs": [
        {
          "output_type": "stream",
          "name": "stdout",
          "text": [
            "[XOR(\n",
            "  (lin1): Linear(in_features=2, out_features=2, bias=True)\n",
            "  (lin2): Linear(in_features=2, out_features=1, bias=True)\n",
            "), Linear(in_features=2, out_features=2, bias=True), Linear(in_features=2, out_features=1, bias=True)]\n"
          ]
        }
      ],
      "source": [
        "def weights_init(model):\n",
        "    print(list(model.modules())) # network from above printed out\n",
        "    for m in model.modules():\n",
        "        if isinstance(m, nn.Linear):\n",
        "            # initialize the weight tensor, here we use a normal distribution\n",
        "            m.weight.data.normal_(0, 1)\n",
        "            m.bias.data.normal_(0, 1)\n",
        "\n",
        "weights_init(model) # may not be needed but used to show the idea"
      ]
    },
    {
      "cell_type": "markdown",
      "source": [
        "COST or LOSS FUNCTION"
      ],
      "metadata": {
        "id": "nkeust3zyYwU"
      }
    },
    {
      "cell_type": "code",
      "execution_count": 18,
      "metadata": {
        "id": "yqkxJx0CzPce"
      },
      "outputs": [],
      "source": [
        "loss_func = nn.MSELoss()"
      ]
    },
    {
      "cell_type": "markdown",
      "source": [
        "UPDATE RULE"
      ],
      "metadata": {
        "id": "uOl_E8OmycFd"
      }
    },
    {
      "cell_type": "code",
      "execution_count": 19,
      "metadata": {
        "id": "zC-ffgFPzTb5"
      },
      "outputs": [],
      "source": [
        "optimizer = optim.SGD(model.parameters(), lr=0.02, momentum=0.9) # Another popular optimizer is ADAM"
      ]
    },
    {
      "cell_type": "markdown",
      "source": [
        "SETTING IT ALL UP"
      ],
      "metadata": {
        "id": "KAX8FpUMyg1-"
      }
    },
    {
      "cell_type": "code",
      "execution_count": 20,
      "metadata": {
        "id": "wB8zkbQEzXyo",
        "colab": {
          "base_uri": "https://localhost:8080/"
        },
        "outputId": "5543aeac-8338-409d-c29f-b92916e52ba0"
      },
      "outputs": [
        {
          "output_type": "stream",
          "name": "stdout",
          "text": [
            "First epoch gradients:\n",
            "--------------------\n",
            "\n",
            ">> Step 0:\n",
            "grad(lin2.weight): tensor([[0.0648, 0.0844]])\n",
            "grad(lin2.bias): tensor([0.5400])\n",
            "grad(lin1.weight): tensor([[-0.0148, -0.0000],\n",
            "        [-0.1345, -0.0000]])\n",
            "grad(lin1.bias): tensor([-0.0148, -0.1345])\n",
            "\n",
            "\n",
            ">> Step 1:\n",
            "grad(lin2.weight): tensor([[-0.2156, -0.4019]])\n",
            "grad(lin2.bias): tensor([-0.8194])\n",
            "grad(lin1.weight): tensor([[0.0000, 0.0413],\n",
            "        [0.0000, 0.3869]])\n",
            "grad(lin1.bias): tensor([0.0413, 0.3869])\n",
            "\n",
            "\n",
            ">> Step 2:\n",
            "grad(lin2.weight): tensor([[0.0639, 0.0834]])\n",
            "grad(lin2.bias): tensor([0.5324])\n",
            "grad(lin1.weight): tensor([[-0.0144, -0.0000],\n",
            "        [-0.1325, -0.0000]])\n",
            "grad(lin1.bias): tensor([-0.0144, -0.1325])\n",
            "\n",
            "\n",
            ">> Step 3:\n",
            "grad(lin2.weight): tensor([[-0.2052, -0.3789]])\n",
            "grad(lin2.bias): tensor([-0.7813])\n",
            "grad(lin1.weight): tensor([[0.0000, 0.0386],\n",
            "        [0.0000, 0.3667]])\n",
            "grad(lin1.bias): tensor([0.0386, 0.3667])\n",
            "\n",
            "\n",
            "\n",
            "Loss History:\n",
            "--------------------\n",
            "Epoch: 0, Loss: 0.15262509882450104, \n",
            "Epoch: 500, Loss: 5.130118552187923e-12, \n",
            "Epoch: 1000, Loss: 2.877698079828406e-13, \n",
            "Epoch: 1500, Loss: 1.2789769243681803e-13, \n",
            "Epoch: 2000, Loss: 0.0, \n"
          ]
        }
      ],
      "source": [
        "epochs = 2001\n",
        "steps = X.size(0)\n",
        "for i in range(epochs):\n",
        "\n",
        "    for j in range(steps):\n",
        "        data_point = np.random.randint(X.size(0))\n",
        "\n",
        "        optimizer.zero_grad()\n",
        "        y_hat = model(X[data_point])\n",
        "        loss = loss_func.forward(y_hat, Y[data_point]) # loss_func(y_hat, Y[data_point]) also works\n",
        "\n",
        "        loss.backward()\n",
        "        optimizer.step()\n",
        "\n",
        "        if i == 0:\n",
        "            if j == 0:\n",
        "                print(\"First epoch gradients:\\n--------------------\\n\")\n",
        "            print(f\">> Step {j}:\")\n",
        "            print(f\"grad(lin2.weight): {model.lin2.weight.grad}\")\n",
        "            print(f\"grad(lin2.bias): {model.lin2.bias.grad}\")\n",
        "            print(f\"grad(lin1.weight): {model.lin1.weight.grad}\")\n",
        "            print(f\"grad(lin1.bias): {model.lin1.bias.grad}\")\n",
        "            print(\"\\n\")\n",
        "\n",
        "            if j == steps - 1:\n",
        "                print(\"\\nLoss History:\")\n",
        "                print(\"--------------------\")\n",
        "\n",
        "    if i % 500 == 0:\n",
        "         print(\"Epoch: {0}, Loss: {1}, \".format(i, loss.data.numpy()))"
      ]
    },
    {
      "cell_type": "code",
      "execution_count": 21,
      "metadata": {
        "id": "auCBHzWf136b",
        "colab": {
          "base_uri": "https://localhost:8080/"
        },
        "outputId": "841c23be-1f4b-41a0-ac61-06d7d462add1"
      },
      "outputs": [
        {
          "output_type": "stream",
          "name": "stdout",
          "text": [
            "[('lin1.weight', Parameter containing:\n",
            "tensor([[-2.7654, -2.7457],\n",
            "        [ 2.0564,  2.0473]], requires_grad=True)), ('lin1.bias', Parameter containing:\n",
            "tensor([ 0.1884, -3.3093], requires_grad=True)), ('lin2.weight', Parameter containing:\n",
            "tensor([[-3.1129, -2.5822]], requires_grad=True)), ('lin2.bias', Parameter containing:\n",
            "tensor([1.7936], requires_grad=True))]\n"
          ]
        }
      ],
      "source": [
        "model_params = list(model.named_parameters())\n",
        "print(model_params)\n",
        "model_params = list(model.parameters()) # used to make below cell better"
      ]
    },
    {
      "cell_type": "markdown",
      "source": [
        "USING THE INFO ABOVE, CAN YOU GET THE EQUATIONS OF THE LINES PLOTTED BELOW?"
      ],
      "metadata": {
        "id": "mJxeG6aKy2Gc"
      }
    },
    {
      "cell_type": "code",
      "execution_count": 22,
      "metadata": {
        "colab": {
          "base_uri": "https://localhost:8080/",
          "height": 430
        },
        "id": "hdUTc_ji18WA",
        "outputId": "80b59030-05e2-4df9-cd42-61cd740e5107"
      },
      "outputs": [
        {
          "output_type": "display_data",
          "data": {
            "text/plain": [
              "<Figure size 640x480 with 1 Axes>"
            ],
            "image/png": "[encoded data removed]"
          },
          "metadata": {}
        }
      ],
      "source": [
        "model_weights = model_params[0].data.numpy()\n",
        "model_bias = model_params[1].data.numpy()\n",
        "\n",
        "plt.scatter(X.numpy()[[0,-1], 0], X.numpy()[[0, -1], 1], s=50)\n",
        "plt.scatter(X.numpy()[[1,2], 0], X.numpy()[[1, 2], 1], c='red', s=50)\n",
        "\n",
        "# weights(0,0) and (0,1) are from in the (TO,FROM) format,\n",
        "# i.e., to neuron 0(or 1) from input 0(or 1). See Helpful Hints at end\n",
        "x_1 = np.arange(-0.1, 1.1, 0.1)\n",
        "y_1 = ((x_1 * model_weights[0,0]) + model_bias[0]) / (-model_weights[0,1])\n",
        "plt.plot(x_1, y_1)\n",
        "\n",
        "x_2 = np.arange(-0.1, 1.1, 0.1)\n",
        "y_2 = ((x_2 * model_weights[1,0]) + model_bias[1]) / (-model_weights[1,1])\n",
        "plt.plot(x_2, y_2)\n",
        "plt.legend([\"neuron_1\", \"neuron_2\"], loc=8)\n",
        "plt.show()"
      ]
    },
    {
      "cell_type": "markdown",
      "source": [
        "HELPFUL TIPS\n",
        "\n",
        "Documentation - pytorch.org\n",
        "\n",
        "---\n",
        "\n",
        "\n",
        "```\n",
        "x = torch.tensor([[1, 2, 3], [4, 5, 6]])\n",
        "print(x[1][2])\n",
        ">>> tensor(6)\n",
        "```\n",
        "\n",
        "```\n",
        "x[0][1] = 8\n",
        "print(x)\n",
        ">>> tensor([[ 1,  8,  3],\n",
        "            [ 4,  5,  6]])\n",
        "```"
      ],
      "metadata": {
        "id": "LSvsUe1Ka5t9"
      }
    }
  ],
  "metadata": {
    "colab": {
      "provenance": [],
      "include_colab_link": true
    },
    "kernelspec": {
      "display_name": "Python 3",
      "name": "python3"
    },
    "language_info": {
      "codemirror_mode": {
        "name": "ipython",
        "version": 3
      },
      "file_extension": ".py",
      "mimetype": "text/x-python",
      "name": "python",
      "nbconvert_exporter": "python",
      "pygments_lexer": "ipython3",
      "version": "3.8.16"
    },
    "gpuClass": "standard"
  },
  "nbformat": 4,
  "nbformat_minor": 0
}