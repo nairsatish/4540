{
  "cells": [
    {
      "cell_type": "markdown",
      "metadata": {
        "id": "view-in-github",
        "colab_type": "text"
      },
      "source": [
        "<a href=\"https://colab.research.google.com/github/nairsatish/4540/blob/master/lfp_state_classification_read_data.ipynb\" target=\"_parent\"><img src=\"https://colab.research.google.com/assets/colab-badge.svg\" alt=\"Open In Colab\"/></a>"
      ]
    },
    {
      "cell_type": "markdown",
      "source": [
        "Colab tutorial for uploading data. \n",
        "\n",
        "https://colab.research.google.com/notebooks/io.ipynb"
      ],
      "metadata": {
        "id": "0V_KuxkcZv4f"
      }
    },
    {
      "cell_type": "code",
      "source": [
        "import h5py\n",
        "import numpy as np\n",
        "\n",
        "filepath = 'Rat08-20130711_017.h5'  # data file\n",
        "f = h5py.File(filepath, 'r')  # read data with h5 format\n",
        "fs = f.attrs['fs'][0]  # get sampling frequency of LFP signal (Hz)\n",
        "print(\"Sampling rate: %.1f Hz\" % (fs))"
      ],
      "metadata": {
        "colab": {
          "base_uri": "https://localhost:8080/"
        },
        "id": "Zbu56lbcZy9U",
        "outputId": "bdb3787c-ced9-4244-9780-02e38f92bd2f"
      },
      "execution_count": null,
      "outputs": [
        {
          "output_type": "stream",
          "name": "stdout",
          "text": [
            "Sampling rate: 1250.0 Hz\n"
          ]
        }
      ]
    },
    {
      "cell_type": "code",
      "source": [
        "states = []  # two states (NREM & WAKE) to be classified\n",
        "# LFP recordings are store in two h5 groups for each state\n",
        "# Under each h5 group, the LFP recordings are divided into several segments with different lengths.\n",
        "for name, grp in f.items():\n",
        "  states.append(name)\n",
        "  print(\"State: %s\" % (name))\n",
        "  print(\"Segment IDs:\")\n",
        "  print(list(grp.keys()))"
      ],
      "metadata": {
        "colab": {
          "base_uri": "https://localhost:8080/"
        },
        "id": "c-tsFnkF4ikk",
        "outputId": "ddbfe595-d43b-45ac-fb45-40963e112b73"
      },
      "execution_count": null,
      "outputs": [
        {
          "output_type": "stream",
          "name": "stdout",
          "text": [
            "State: NREM\n",
            "Segment IDs:\n",
            "['1', '10', '11', '12', '13', '14', '15', '16', '17', '18', '19', '2', '20', '21', '22', '23', '24', '25', '26', '27', '28', '29', '3', '30', '31', '32', '33', '34', '35', '36', '37', '38', '39', '4', '40', '41', '42', '43', '44', '45', '46', '47', '48', '49', '5', '50', '51', '52', '53', '54', '55', '56', '57', '58', '59', '6', '7', '8', '9']\n",
            "State: WAKE\n",
            "Segment IDs:\n",
            "['1', '10', '11', '12', '13', '14', '15', '16', '17', '18', '19', '2', '20', '21', '22', '23', '24', '25', '26', '27', '28', '29', '3', '30', '31', '32', '33', '34', '35', '36', '37', '4', '5', '6', '7', '8', '9']\n"
          ]
        }
      ]
    },
    {
      "cell_type": "code",
      "execution_count": null,
      "metadata": {
        "id": "2IoqxVilXqr_"
      },
      "outputs": [],
      "source": [
        "# Convert the recording in to numpy arrays\n",
        "# Use a dictionary to store the LFP recordings of the two states\n",
        "# each containing a list of numpy arrays of all segments\n",
        "lfp = {key: [] for key in states}  \n",
        "for key in states:\n",
        "  group = f[key]  # h5 group of a state\n",
        "  n = len(group)  # number of segments\n",
        "  for i in range(n):\n",
        "    lfp[key].append(group[str(i+1)][()].astype(float))  # convert data to numpy array and from int type to float type\n",
        "\n",
        "# print(lfp)"
      ]
    },
    {
      "cell_type": "markdown",
      "source": [
        "Example for accessing a segment."
      ],
      "metadata": {
        "id": "bd_dM9kPE4jY"
      }
    },
    {
      "cell_type": "code",
      "source": [
        "import matplotlib.pyplot as plt\n",
        "\n",
        "x = lfp['NREM'][10]  # accessing the 10-th LFP segment in NREM state\n",
        "t = np.arange(x.size)/fs  # time points\n",
        "\n",
        "plt.plot(t,x)\n",
        "plt.xlabel('second')\n",
        "plt.show()"
      ],
      "metadata": {
        "colab": {
          "base_uri": "https://localhost:8080/",
          "height": 279
        },
        "id": "L_Bo9VG28e6x",
        "outputId": "e9ba16b8-0de3-457a-e7ac-614f74152d1b"
      },
      "execution_count": null,
      "outputs": [
        {
          "output_type": "display_data",
          "data": {
            "text/plain": [
              "<Figure size 432x288 with 1 Axes>"
            ],
            "image/png": "[encoded data removed]"
          },
          "metadata": {
            "needs_background": "light"
          }
        }
      ]
    }
  ],
  "metadata": {
    "kernelspec": {
      "display_name": "Python 3 (ipykernel)",
      "language": "python",
      "name": "python3"
    },
    "language_info": {
      "codemirror_mode": {
        "name": "ipython",
        "version": 3
      },
      "file_extension": ".py",
      "mimetype": "text/x-python",
      "name": "python",
      "nbconvert_exporter": "python",
      "pygments_lexer": "ipython3",
      "version": "3.8.10"
    },
    "colab": {
      "name": "lfp_state_classification_read_data.ipynb",
      "provenance": [],
      "collapsed_sections": [],
      "include_colab_link": true
    }
  },
  "nbformat": 4,
  "nbformat_minor": 0
}