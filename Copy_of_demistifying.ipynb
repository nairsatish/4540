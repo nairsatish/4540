{
  "nbformat": 4,
  "nbformat_minor": 0,
  "metadata": {
    "colab": {
      "provenance": [],
      "include_colab_link": true
    },
    "kernelspec": {
      "name": "python3",
      "display_name": "Python 3"
    },
    "language_info": {
      "name": "python"
    }
  },
  "cells": [
    {
      "cell_type": "markdown",
      "metadata": {
        "id": "view-in-github",
        "colab_type": "text"
      },
      "source": [
        "<a href=\"https://colab.research.google.com/github/nairsatish/4540/blob/master/Copy_of_demistifying.ipynb\" target=\"_parent\"><img src=\"https://colab.research.google.com/assets/colab-badge.svg\" alt=\"Open In Colab\"/></a>"
      ]
    },
    {
      "cell_type": "markdown",
      "source": [
        "From article: https://www.analyticsvidhya.com/blog/2020/02/mathematics-behind-convolutional-neural-network/"
      ],
      "metadata": {
        "id": "LhqRCkmajzA-"
      }
    },
    {
      "cell_type": "code",
      "execution_count": 1,
      "metadata": {
        "id": "u9-kC4IAg9U_",
        "outputId": "bc2ae73f-c7d6-47db-d01a-826f6bf69e55",
        "colab": {
          "base_uri": "https://localhost:8080/"
        }
      },
      "outputs": [
        {
          "output_type": "stream",
          "name": "stdout",
          "text": [
            "Downloading data from https://storage.googleapis.com/tensorflow/tf-keras-datasets/mnist.npz\n",
            "11490434/11490434 [==============================] - 0s 0us/step\n"
          ]
        },
        {
          "output_type": "execute_result",
          "data": {
            "text/plain": [
              "1    26\n",
              "9    23\n",
              "0    21\n",
              "4    21\n",
              "3    21\n",
              "7    21\n",
              "2    20\n",
              "6    19\n",
              "8    15\n",
              "5    13\n",
              "dtype: int64"
            ]
          },
          "metadata": {},
          "execution_count": 1
        }
      ],
      "source": [
        "#importing required libraries\n",
        "import numpy as np\n",
        "import pandas as pd\n",
        "import tqdm as tqdm\n",
        "from keras.datasets import mnist\n",
        "\n",
        "#loading dataset\n",
        "(x_train, y_train), (x_test,y_test) = mnist.load_data()\n",
        "\n",
        "#selecting a subset of data (200 images)\n",
        "x_train = x_train[:200]\n",
        "y=y_train[:200]\n",
        "\n",
        "X = x_train.T\n",
        "X = X/255\n",
        "\n",
        "y.resize((200,1))\n",
        "y = y.T\n",
        "#checking value\n",
        "pd.Series(y[0]).value_counts()\n"
      ]
    },
    {
      "cell_type": "code",
      "source": [
        "#converting into binary classification\n",
        "for i in range(y.shape[1]):\n",
        "    if y[0][i] >4:\n",
        "        y[0][i] = 1\n",
        "    else:\n",
        "        y[0][i] = 0\n",
        "\n",
        "#checking value counts\n",
        "pd.Series(y[0]).value_counts()"
      ],
      "metadata": {
        "id": "8gJ_7y9hjiUL",
        "outputId": "9db277cb-6dd3-4801-b470-a8608c04cd45",
        "colab": {
          "base_uri": "https://localhost:8080/"
        }
      },
      "execution_count": 2,
      "outputs": [
        {
          "output_type": "execute_result",
          "data": {
            "text/plain": [
              "0    109\n",
              "1     91\n",
              "dtype: int64"
            ]
          },
          "metadata": {},
          "execution_count": 2
        }
      ]
    },
    {
      "cell_type": "code",
      "source": [
        "# initializing filter\n",
        "f=np.random.uniform(size=(3,5,5))\n",
        "f = f.T\n",
        "\n",
        "print('Filter 1', '\\n', f[:,:,0], '\\n')\n",
        "print('Filter 2', '\\n', f[:,:,1], '\\n')\n",
        "print('Filter 3', '\\n', f[:,:,2], '\\n')"
      ],
      "metadata": {
        "id": "cS2rffAbkbGv",
        "outputId": "c862ee3e-f365-43cd-ebe9-af15439957ee",
        "colab": {
          "base_uri": "https://localhost:8080/"
        }
      },
      "execution_count": 3,
      "outputs": [
        {
          "output_type": "stream",
          "name": "stdout",
          "text": [
            "Filter 1 \n",
            " [[0.76633236 0.1225288  0.36818648 0.42750291 0.66442129]\n",
            " [0.40534081 0.44788935 0.38034627 0.86028342 0.39126656]\n",
            " [0.87394139 0.96888082 0.82937973 0.16568721 0.23903279]\n",
            " [0.02019277 0.04649089 0.12813062 0.4066673  0.43510968]\n",
            " [0.65747512 0.22178052 0.66985237 0.67201996 0.10943952]] \n",
            "\n",
            "Filter 2 \n",
            " [[0.73403472 0.58492787 0.1696076  0.9145459  0.10011524]\n",
            " [0.35742651 0.26346369 0.0870383  0.51100503 0.27146994]\n",
            " [0.80818169 0.47476575 0.35181852 0.48014837 0.99611978]\n",
            " [0.7628365  0.24956039 0.74918333 0.04944729 0.31362556]\n",
            " [0.66936497 0.09795262 0.64957318 0.95045454 0.66101262]] \n",
            "\n",
            "Filter 3 \n",
            " [[0.79041304 0.06028521 0.21101204 0.90864704 0.32880175]\n",
            " [0.20864798 0.47698257 0.93674651 0.50868743 0.79594557]\n",
            " [0.15798715 0.96349607 0.30374291 0.37724413 0.12643985]\n",
            " [0.59018332 0.40705621 0.80601098 0.86749828 0.85826459]\n",
            " [0.74046046 0.30067374 0.52402519 0.60405781 0.44822833]] \n",
            "\n"
          ]
        }
      ]
    },
    {
      "cell_type": "code",
      "source": [
        "X.shape, y.shape, f.shape"
      ],
      "metadata": {
        "id": "T96LNC9WkiTZ",
        "outputId": "3da5f2f9-6b19-4b8c-a892-f66c317c9851",
        "colab": {
          "base_uri": "https://localhost:8080/"
        }
      },
      "execution_count": 4,
      "outputs": [
        {
          "output_type": "execute_result",
          "data": {
            "text/plain": [
              "((28, 28, 200), (1, 200), (5, 5, 3))"
            ]
          },
          "metadata": {},
          "execution_count": 4
        }
      ]
    },
    {
      "cell_type": "code",
      "source": [
        "# Generating patches from images\n",
        "new_image = []\n",
        "\n",
        "# for number of images\n",
        "for k in range(X.shape[2]):\n",
        "    # sliding in horizontal direction\n",
        "    for i in range(X.shape[0]-f.shape[0]+1):\n",
        "        # sliding in vertical direction\n",
        "        for j in range(X.shape[1]-f.shape[1]+1):\n",
        "            new_image.append(X[:,:,k][i:i+f.shape[0],j:j+f.shape[1]])\n",
        "            \n",
        "# resizing the generated patches as per number of images\n",
        "new_image = np.array(new_image)\n",
        "new_image.resize((X.shape[2],int(new_image.shape[0]/X.shape[2]),new_image.shape[1],new_image.shape[2]))\n",
        "new_image.shape"
      ],
      "metadata": {
        "id": "6ywhXfB6kuoT",
        "outputId": "2fd53752-7ad0-4d73-a3d3-77256a2b58b5",
        "colab": {
          "base_uri": "https://localhost:8080/"
        }
      },
      "execution_count": 5,
      "outputs": [
        {
          "output_type": "execute_result",
          "data": {
            "text/plain": [
              "(200, 576, 5, 5)"
            ]
          },
          "metadata": {},
          "execution_count": 5
        }
      ]
    },
    {
      "cell_type": "code",
      "source": [
        "# number of features in data set\n",
        "s_row = X.shape[0] - f.shape[0] + 1\n",
        "s_col = X.shape[1] - f.shape[1] + 1\n",
        "num_filter = f.shape[2]\n",
        "\n",
        "inputlayer_neurons = (s_row)*(s_col)*(num_filter)\n",
        "output_neurons = 1 \n",
        "\n",
        "# initializing weight\n",
        "wo=np.random.uniform(size=(inputlayer_neurons,output_neurons))"
      ],
      "metadata": {
        "id": "m5Z_o7R-k42q"
      },
      "execution_count": 6,
      "outputs": []
    },
    {
      "cell_type": "code",
      "source": [
        "# defining the Sigmoid Function\n",
        "def sigmoid (x):\n",
        "    return 1/(1 + np.exp(-x))\n",
        "\n",
        "# derivative of Sigmoid Function\n",
        "def derivatives_sigmoid(x):\n",
        "    return x * (1 - x)"
      ],
      "metadata": {
        "id": "ClD3UkFflGg_"
      },
      "execution_count": 7,
      "outputs": []
    },
    {
      "cell_type": "code",
      "source": [
        "# generating output of convolution layer\n",
        "filter_output = []\n",
        "# for each image\n",
        "for i in range(len(new_image)):\n",
        "    # apply each filter\n",
        "    for k in range(f.shape[2]):\n",
        "        # do element wise multiplication\n",
        "        for j in range(new_image.shape[1]):\n",
        "            filter_output.append((new_image[i][j]*f[:,:,k]).sum()) \n",
        "\n",
        "filter_output = np.resize(np.array(filter_output), (len(new_image),f.shape[2],new_image.shape[1]))\n",
        "\n",
        "# applying activation over convolution output\n",
        "filter_output_sigmoid = sigmoid(filter_output)\n",
        "\n",
        "filter_output.shape, filter_output_sigmoid.shape"
      ],
      "metadata": {
        "id": "2pBI6rV1lOWS",
        "outputId": "f8309cc6-ef46-428d-9c97-a210dd17015f",
        "colab": {
          "base_uri": "https://localhost:8080/"
        }
      },
      "execution_count": 8,
      "outputs": [
        {
          "output_type": "execute_result",
          "data": {
            "text/plain": [
              "((200, 3, 576), (200, 3, 576))"
            ]
          },
          "metadata": {},
          "execution_count": 8
        }
      ]
    },
    {
      "cell_type": "code",
      "source": [
        "# generating input for fully connected layer\n",
        "filter_output_sigmoid = filter_output_sigmoid.reshape((filter_output_sigmoid.shape[0],filter_output_sigmoid.shape[1]*filter_output_sigmoid.shape[2]))\n",
        "\n",
        "filter_output_sigmoid = filter_output_sigmoid.T\n",
        "\n",
        "# Linear trasnformation for fully Connected Layer\n",
        "output_layer_input= np.dot(wo.T,filter_output_sigmoid)\n",
        "output_layer_input = (output_layer_input - np.average(output_layer_input))/np.std(output_layer_input)\n",
        "\n",
        "# activation function\n",
        "output = sigmoid(output_layer_input)"
      ],
      "metadata": {
        "id": "EsjB2kx8lghB"
      },
      "execution_count": 9,
      "outputs": []
    },
    {
      "cell_type": "code",
      "source": [
        "#Error\n",
        "error = np.square(y-output)/2\n",
        "\n",
        "#Error w.r.t Output (Gradient)\n",
        "error_wrt_output = -(y-output)\n",
        "\n",
        "#Error w.r.t sigmoid transformation (output_layer_input)\n",
        "output_wrt_output_layer_input=output*(1-output)\n",
        "\n",
        "#Error w.r.t weight\n",
        "output_wrt_w=filter_output_sigmoid"
      ],
      "metadata": {
        "id": "GZyFsKI2lnaD"
      },
      "execution_count": 10,
      "outputs": []
    },
    {
      "cell_type": "code",
      "source": [
        "#delta change in w for fully connected layer\n",
        "delta_error_fcp = np.dot(output_wrt_w,(error_wrt_output * output_wrt_output_layer_input).T)\n",
        "lr = 0.01\n",
        "wo = wo - lr*delta_error_fcp"
      ],
      "metadata": {
        "id": "eVGznfPXltZr"
      },
      "execution_count": 11,
      "outputs": []
    },
    {
      "cell_type": "code",
      "source": [
        "#Error w.r.t sigmoid output\n",
        "output_layer_input_wrt_filter_output_sigmoid = wo.T\n",
        "\n",
        "#Error w.r.t sigmoid transformation\n",
        "filter_output_sigmoid_wrt_filter_output = filter_output_sigmoid * (1-filter_output_sigmoid)\n",
        "\n",
        "# cvalculating derivatives for backprop convolution\n",
        "error_wrt_filter_output = np.dot(output_layer_input_wrt_filter_output_sigmoid.T,error_wrt_output*output_wrt_output_layer_input) * filter_output_sigmoid_wrt_filter_output\n",
        "error_wrt_filter_output = np.average(error_wrt_filter_output, axis=1)\n",
        "error_wrt_filter_output = np.resize(error_wrt_filter_output,(X.shape[0]-f.shape[0]+1,X.shape[1]-f.shape[1]+1, f.shape[2]))"
      ],
      "metadata": {
        "id": "sHyJXUcql597"
      },
      "execution_count": 12,
      "outputs": []
    },
    {
      "cell_type": "code",
      "source": [
        "filter_update = []\n",
        "for i in range(f.shape[2]):\n",
        "    for j in range(f.shape[0]):\n",
        "        for k in range(f.shape[1]):            \n",
        "            temp = 0\n",
        "            spos_row = j\n",
        "            spos_col = k\n",
        "            epos_row = spos_row + s_row\n",
        "            epos_col = spos_col + s_col\n",
        "            for l in range(X.shape[2]):\n",
        "                temp = temp + (X[spos_row:epos_row,spos_col:epos_col,l]*error_wrt_filter_output[:,:,i]).sum()\n",
        "            filter_update.append(temp/X.shape[2])  \n",
        "\n",
        "filter_update_array = np.array(filter_update)\n",
        "filter_update_array = np.resize(filter_update_array,(f.shape[2],f.shape[0],f.shape[1]))"
      ],
      "metadata": {
        "id": "kkXSCK33mgVs"
      },
      "execution_count": 13,
      "outputs": []
    },
    {
      "cell_type": "code",
      "source": [
        "for i in range(f.shape[2]):\n",
        "    f[:,:,i] = f[:,:,i] - lr*filter_update_array[i]"
      ],
      "metadata": {
        "id": "-5A6Wmk_mxoP"
      },
      "execution_count": 14,
      "outputs": []
    },
    {
      "cell_type": "code",
      "source": [
        "lst = ['string', 1, 2, 'another string']\n",
        "for element in lst:\n",
        "   print type(element)"
      ],
      "metadata": {
        "id": "2ZKk-2VEjYHd",
        "outputId": "3cab274a-b348-46d5-d7b4-c57a36d743c8",
        "colab": {
          "base_uri": "https://localhost:8080/",
          "height": 131
        }
      },
      "execution_count": 15,
      "outputs": [
        {
          "output_type": "error",
          "ename": "SyntaxError",
          "evalue": "ignored",
          "traceback": [
            "\u001b[0;36m  File \u001b[0;32m\"<ipython-input-15-4260a0160064>\"\u001b[0;36m, line \u001b[0;32m3\u001b[0m\n\u001b[0;31m    print type(element)\u001b[0m\n\u001b[0m          ^\u001b[0m\n\u001b[0;31mSyntaxError\u001b[0m\u001b[0;31m:\u001b[0m invalid syntax\n"
          ]
        }
      ]
    }
  ]
}