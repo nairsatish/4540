{
  "nbformat": 4,
  "nbformat_minor": 0,
  "metadata": {
    "colab": {
      "provenance": [],
      "authorship_tag": "ABX9TyNSjPlYZBpByhYTr8Mwjysw",
      "include_colab_link": true
    },
    "kernelspec": {
      "name": "python3",
      "display_name": "Python 3"
    },
    "language_info": {
      "name": "python"
    }
  },
  "cells": [
    {
      "cell_type": "markdown",
      "metadata": {
        "id": "view-in-github",
        "colab_type": "text"
      },
      "source": [
        "<a href=\"https://colab.research.google.com/github/nairsatish/4540/blob/master/1/fCorrelatedSpikeTrain2.ipynb\" target=\"_parent\"><img src=\"https://colab.research.google.com/assets/colab-badge.svg\" alt=\"Open In Colab\"/></a>"
      ]
    },
    {
      "cell_type": "markdown",
      "source": [
        "Generating a 1/f correlated Poisson spike train can be achieved by following these steps:\n",
        "\n",
        "Generate a 1/f noise signal.\n",
        "Integrate the noise signal to get a cumulative signal.\n",
        "Scale the cumulative signal to have a mean of 0 and a variance of 1.\n",
        "Convert the scaled signal into a Poisson spike train."
      ],
      "metadata": {
        "id": "HEx6Iua9pHMg"
      }
    },
    {
      "cell_type": "code",
      "source": [
        "import numpy as np\n",
        "import matplotlib.pyplot as plt\n",
        "import scipy.signal as signal\n",
        "\n",
        "# Step 1: Generate a 1/f noise signal\n",
        "fs = 1000  # sampling rate\n",
        "T = 10000  # duration in milliseconds\n",
        "f, Pxx = signal.welch(np.random.randn(T*fs), fs=fs, nperseg=1024)\n",
        "noise = np.sqrt(Pxx) * np.exp(1j*2*np.pi*np.random.rand(len(Pxx)))\n",
        "noise = np.real(np.fft.ifft(noise))\n",
        "\n",
        "# Step 2: Integrate the noise signal\n",
        "integrated = np.cumsum(noise)\n",
        "\n",
        "# Step 3: Scale the cumulative signal\n",
        "scaled = (integrated - np.mean(integrated)) / np.std(integrated)\n",
        "\n",
        "# Step 4: Convert to a Poisson spike train\n",
        "spike_train = np.zeros(len(scaled))\n",
        "spike_train[scaled > 2] = 1  # set a threshold to generate spikes\n",
        "spike_times = np.nonzero(spike_train)[0]\n",
        "\n",
        "# plot the spike train\n",
        "plt.plot(spike_times, np.zeros(len(spike_times)), 'o')\n",
        "plt.xlabel('Time (ms)')\n",
        "plt.ylabel('Spike')\n",
        "plt.show()\n"
      ],
      "metadata": {
        "colab": {
          "base_uri": "https://localhost:8080/",
          "height": 449
        },
        "id": "Uv8cI4BPpJQU",
        "outputId": "6bdf65d5-65c0-4edb-fcc9-fd342dc8dc71"
      },
      "execution_count": 2,
      "outputs": [
        {
          "output_type": "display_data",
          "data": {
            "text/plain": [
              "<Figure size 640x480 with 1 Axes>"
            ],
            "image/png": "[encoded data removed]"
          },
          "metadata": {}
        }
      ]
    },
    {
      "cell_type": "markdown",
      "source": [
        "In this code, fs and T define the sampling rate and the duration of the spike train in milliseconds, respectively. In step 1, we generate a white noise signal and apply a Welch's method to obtain a power spectrum with a 1/f shape. We then generate a complex noise signal with this power spectrum and take the real part to obtain the 1/f noise signal.\n",
        "\n",
        "In step 2, we integrate the noise signal to obtain a cumulative signal. In step 3, we scale the cumulative signal to have a mean of 0 and a variance of 1.\n",
        "\n",
        "In step 4, we convert the scaled signal into a Poisson spike train by setting a threshold to generate spikes. The threshold value of 2 can be adjusted to control the spiking rate. Finally, we obtain the spike times by finding the non-zero elements of the spike train array and plot the spike train."
      ],
      "metadata": {
        "id": "A-EG7gdvpehz"
      }
    }
  ]
}