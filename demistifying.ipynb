{
  "nbformat": 4,
  "nbformat_minor": 0,
  "metadata": {
    "colab": {
      "provenance": [],
      "include_colab_link": true
    },
    "kernelspec": {
      "name": "python3",
      "display_name": "Python 3"
    },
    "language_info": {
      "name": "python"
    }
  },
  "cells": [
    {
      "cell_type": "markdown",
      "metadata": {
        "id": "view-in-github",
        "colab_type": "text"
      },
      "source": [
        "<a href=\"https://colab.research.google.com/github/nairsatish/4540/blob/master/Copy_of_demistifying.ipynb\" target=\"_parent\"><img src=\"https://colab.research.google.com/assets/colab-badge.svg\" alt=\"Open In Colab\"/></a>"
      ]
    },
    {
      "cell_type": "markdown",
      "source": [
        "From article: https://www.analyticsvidhya.com/blog/2020/02/mathematics-behind-convolutional-neural-network/"
      ],
      "metadata": {
        "id": "LhqRCkmajzA-"
      }
    },
    {
      "cell_type": "code",
      "execution_count": 44,
      "metadata": {
        "id": "u9-kC4IAg9U_",
        "outputId": "e362c75a-e653-433d-f234-27c9984d50ad",
        "colab": {
          "base_uri": "https://localhost:8080/"
        }
      },
      "outputs": [
        {
          "output_type": "execute_result",
          "data": {
            "text/plain": [
              "1    26\n",
              "9    23\n",
              "0    21\n",
              "4    21\n",
              "3    21\n",
              "7    21\n",
              "2    20\n",
              "6    19\n",
              "8    15\n",
              "5    13\n",
              "dtype: int64"
            ]
          },
          "metadata": {},
          "execution_count": 44
        }
      ],
      "source": [
        "#importing required libraries\n",
        "import numpy as np\n",
        "import pandas as pd\n",
        "import tqdm as tqdm\n",
        "from keras.datasets import mnist\n",
        "\n",
        "#loading dataset\n",
        "(x_train, y_train), (x_test,y_test) = mnist.load_data()\n",
        "\n",
        "#selecting a subset of data (200 images)\n",
        "x_train = x_train[:200]\n",
        "y=y_train[:200]\n",
        "\n",
        "X = x_train.T\n",
        "X = X/255\n",
        "\n",
        "y.resize((200,1))\n",
        "y = y.T\n",
        "#checking value\n",
        "pd.Series(y[0]).value_counts()\n"
      ]
    },
    {
      "cell_type": "code",
      "source": [
        "#converting into binary classification\n",
        "for i in range(y.shape[1]):\n",
        "    if y[0][i] >4:\n",
        "        y[0][i] = 1\n",
        "    else:\n",
        "        y[0][i] = 0\n",
        "\n",
        "#checking value counts\n",
        "pd.Series(y[0]).value_counts()"
      ],
      "metadata": {
        "id": "8gJ_7y9hjiUL",
        "outputId": "8005e33e-3324-4a09-8cf8-2b877f04be8e",
        "colab": {
          "base_uri": "https://localhost:8080/"
        }
      },
      "execution_count": 45,
      "outputs": [
        {
          "output_type": "execute_result",
          "data": {
            "text/plain": [
              "0    109\n",
              "1     91\n",
              "dtype: int64"
            ]
          },
          "metadata": {},
          "execution_count": 45
        }
      ]
    },
    {
      "cell_type": "code",
      "source": [
        "# initializing filter\n",
        "f=np.random.uniform(size=(3,5,5))\n",
        "f = f.T\n",
        "\n",
        "print('Filter 1', '\\n', f[:,:,0], '\\n')\n",
        "print('Filter 2', '\\n', f[:,:,1], '\\n')\n",
        "print('Filter 3', '\\n', f[:,:,2], '\\n')"
      ],
      "metadata": {
        "id": "cS2rffAbkbGv",
        "outputId": "c0aeb9b3-59c5-43a5-ca43-36d19e34f153",
        "colab": {
          "base_uri": "https://localhost:8080/"
        }
      },
      "execution_count": 46,
      "outputs": [
        {
          "output_type": "stream",
          "name": "stdout",
          "text": [
            "Filter 1 \n",
            " [[0.12559085 0.38527453 0.90251958 0.40887072 0.38244406]\n",
            " [0.1112728  0.23616078 0.69531019 0.28636856 0.75975435]\n",
            " [0.08699854 0.76027244 0.99761362 0.78619734 0.0663354 ]\n",
            " [0.3393071  0.61420234 0.41146288 0.8538644  0.16719704]\n",
            " [0.58416605 0.307486   0.88213476 0.0418527  0.19331886]] \n",
            "\n",
            "Filter 2 \n",
            " [[0.38004315 0.06401921 0.76834575 0.72079877 0.18515008]\n",
            " [0.89161016 0.8718618  0.17198951 0.3483645  0.95221048]\n",
            " [0.79553685 0.35399886 0.12797227 0.61603282 0.51773285]\n",
            " [0.05169041 0.51011704 0.60314608 0.99198456 0.55839141]\n",
            " [0.69210159 0.00555821 0.28980714 0.21289428 0.20960447]] \n",
            "\n",
            "Filter 3 \n",
            " [[0.4066338  0.02351666 0.89389397 0.03732026 0.51821497]\n",
            " [0.63789561 0.32017307 0.78482944 0.64072335 0.69107697]\n",
            " [0.9021444  0.16917474 0.14989648 0.35686705 0.66417767]\n",
            " [0.81416498 0.25144645 0.60491165 0.88224277 0.10961808]\n",
            " [0.68190011 0.53350247 0.09033398 0.62507958 0.24431668]] \n",
            "\n"
          ]
        }
      ]
    },
    {
      "cell_type": "code",
      "source": [
        "X.shape, y.shape, f.shape"
      ],
      "metadata": {
        "id": "T96LNC9WkiTZ",
        "outputId": "32dbaff5-2f1d-462f-d676-22e7c597d8c4",
        "colab": {
          "base_uri": "https://localhost:8080/"
        }
      },
      "execution_count": 47,
      "outputs": [
        {
          "output_type": "execute_result",
          "data": {
            "text/plain": [
              "((28, 28, 200), (1, 200), (5, 5, 3))"
            ]
          },
          "metadata": {},
          "execution_count": 47
        }
      ]
    },
    {
      "cell_type": "code",
      "source": [
        "# Generating patches from images\n",
        "new_image = []\n",
        "\n",
        "# for number of images\n",
        "for k in range(X.shape[2]):\n",
        "    # sliding in horizontal direction\n",
        "    for i in range(X.shape[0]-f.shape[0]+1):\n",
        "        # sliding in vertical direction\n",
        "        for j in range(X.shape[1]-f.shape[1]+1):\n",
        "            new_image.append(X[:,:,k][i:i+f.shape[0],j:j+f.shape[1]])\n",
        "            \n",
        "# resizing the generated patches as per number of images\n",
        "new_image = np.array(new_image)\n",
        "new_image.resize((X.shape[2],int(new_image.shape[0]/X.shape[2]),new_image.shape[1],new_image.shape[2]))\n",
        "new_image.shape"
      ],
      "metadata": {
        "id": "6ywhXfB6kuoT",
        "outputId": "1ca1a67d-767e-4fb2-d065-92c0263c0f03",
        "colab": {
          "base_uri": "https://localhost:8080/"
        }
      },
      "execution_count": 48,
      "outputs": [
        {
          "output_type": "execute_result",
          "data": {
            "text/plain": [
              "(200, 576, 5, 5)"
            ]
          },
          "metadata": {},
          "execution_count": 48
        }
      ]
    },
    {
      "cell_type": "code",
      "source": [
        "# number of features in data set\n",
        "s_row = X.shape[0] - f.shape[0] + 1\n",
        "s_col = X.shape[1] - f.shape[1] + 1\n",
        "num_filter = f.shape[2]\n",
        "\n",
        "inputlayer_neurons = (s_row)*(s_col)*(num_filter)\n",
        "output_neurons = 1 \n",
        "\n",
        "# initializing weight\n",
        "wo=np.random.uniform(size=(inputlayer_neurons,output_neurons))"
      ],
      "metadata": {
        "id": "m5Z_o7R-k42q"
      },
      "execution_count": 49,
      "outputs": []
    },
    {
      "cell_type": "code",
      "source": [
        "# defining the Sigmoid Function\n",
        "def sigmoid (x):\n",
        "    return 1/(1 + np.exp(-x))\n",
        "\n",
        "# derivative of Sigmoid Function\n",
        "def derivatives_sigmoid(x):\n",
        "    return x * (1 - x)"
      ],
      "metadata": {
        "id": "ClD3UkFflGg_"
      },
      "execution_count": 50,
      "outputs": []
    },
    {
      "cell_type": "code",
      "source": [
        "# generating output of convolution layer\n",
        "filter_output = []\n",
        "# for each image\n",
        "for i in range(len(new_image)):\n",
        "    # apply each filter\n",
        "    for k in range(f.shape[2]):\n",
        "        # do element wise multiplication\n",
        "        for j in range(new_image.shape[1]):\n",
        "            filter_output.append((new_image[i][j]*f[:,:,k]).sum()) \n",
        "\n",
        "filter_output = np.resize(np.array(filter_output), (len(new_image),f.shape[2],new_image.shape[1]))\n",
        "\n",
        "# applying activation over convolution output\n",
        "filter_output_sigmoid = sigmoid(filter_output)\n",
        "\n",
        "filter_output.shape, filter_output_sigmoid.shape"
      ],
      "metadata": {
        "id": "2pBI6rV1lOWS",
        "outputId": "c6ef92a5-388d-4f86-9ccc-6cc4bed708a0",
        "colab": {
          "base_uri": "https://localhost:8080/"
        }
      },
      "execution_count": 51,
      "outputs": [
        {
          "output_type": "execute_result",
          "data": {
            "text/plain": [
              "((200, 3, 576), (200, 3, 576))"
            ]
          },
          "metadata": {},
          "execution_count": 51
        }
      ]
    },
    {
      "cell_type": "code",
      "source": [
        "#for element in filter_output:\n",
        "#   print (type(element))\n",
        "print(filter_output.dtype)"
      ],
      "metadata": {
        "id": "TuuN-vKzDuRg",
        "outputId": "93c7f7df-f7fd-4ebc-be76-75fedf2aeb3b",
        "colab": {
          "base_uri": "https://localhost:8080/"
        }
      },
      "execution_count": 52,
      "outputs": [
        {
          "output_type": "stream",
          "name": "stdout",
          "text": [
            "float64\n"
          ]
        }
      ]
    },
    {
      "cell_type": "code",
      "source": [
        "# generating input for fully connected layer\n",
        "filter_output_sigmoid = filter_output_sigmoid.reshape((filter_output_sigmoid.shape[0],filter_output_sigmoid.shape[1]*filter_output_sigmoid.shape[2]))\n",
        "\n",
        "filter_output_sigmoid = filter_output_sigmoid.T\n",
        "\n",
        "# Linear trasnformation for fully Connected Layer\n",
        "output_layer_input= np.dot(wo.T,filter_output_sigmoid)\n",
        "output_layer_input = (output_layer_input - np.average(output_layer_input))/np.std(output_layer_input)\n",
        "\n",
        "# activation function\n",
        "output = sigmoid(output_layer_input)"
      ],
      "metadata": {
        "id": "EsjB2kx8lghB"
      },
      "execution_count": 53,
      "outputs": []
    },
    {
      "cell_type": "code",
      "source": [
        "filter_output_sigmoid.shape"
      ],
      "metadata": {
        "id": "0UMHmcA2SIPJ",
        "outputId": "14cf7bf5-4327-45ee-99de-d0db0769be7f",
        "colab": {
          "base_uri": "https://localhost:8080/"
        }
      },
      "execution_count": 61,
      "outputs": [
        {
          "output_type": "execute_result",
          "data": {
            "text/plain": [
              "(1728, 200)"
            ]
          },
          "metadata": {},
          "execution_count": 61
        }
      ]
    },
    {
      "cell_type": "code",
      "source": [
        "#Error\n",
        "error = np.square(y-output)/2\n",
        "\n",
        "#Error w.r.t Output (Gradient)\n",
        "error_wrt_output = -(y-output)\n",
        "\n",
        "#Error w.r.t sigmoid transformation (output_layer_input)\n",
        "output_wrt_output_layer_input=output*(1-output)\n",
        "\n",
        "#Error w.r.t weight\n",
        "output_wrt_w=filter_output_sigmoid"
      ],
      "metadata": {
        "id": "GZyFsKI2lnaD"
      },
      "execution_count": 54,
      "outputs": []
    },
    {
      "cell_type": "code",
      "source": [
        "#delta change in w for fully connected layer\n",
        "delta_error_fcp = np.dot(output_wrt_w,(error_wrt_output * output_wrt_output_layer_input).T)\n",
        "lr = 0.01\n",
        "wo = wo - lr*delta_error_fcp"
      ],
      "metadata": {
        "id": "eVGznfPXltZr"
      },
      "execution_count": 55,
      "outputs": []
    },
    {
      "cell_type": "code",
      "source": [
        "#Error w.r.t sigmoid output\n",
        "output_layer_input_wrt_filter_output_sigmoid = wo.T\n",
        "\n",
        "#Error w.r.t sigmoid transformation\n",
        "filter_output_sigmoid_wrt_filter_output = filter_output_sigmoid * (1-filter_output_sigmoid)\n",
        "\n",
        "# cvalculating derivatives for backprop convolution\n",
        "error_wrt_filter_output = np.dot(output_layer_input_wrt_filter_output_sigmoid.T,error_wrt_output*output_wrt_output_layer_input) * filter_output_sigmoid_wrt_filter_output\n",
        "error_wrt_filter_output = np.average(error_wrt_filter_output, axis=1)\n",
        "error_wrt_filter_output = np.resize(error_wrt_filter_output,(X.shape[0]-f.shape[0]+1,X.shape[1]-f.shape[1]+1, f.shape[2]))"
      ],
      "metadata": {
        "id": "sHyJXUcql597"
      },
      "execution_count": 56,
      "outputs": []
    },
    {
      "cell_type": "code",
      "source": [
        "filter_update = []\n",
        "for i in range(f.shape[2]):\n",
        "    for j in range(f.shape[0]):\n",
        "        for k in range(f.shape[1]):            \n",
        "            temp = 0\n",
        "            spos_row = j\n",
        "            spos_col = k\n",
        "            epos_row = spos_row + s_row\n",
        "            epos_col = spos_col + s_col\n",
        "            for l in range(X.shape[2]):\n",
        "                temp = temp + (X[spos_row:epos_row,spos_col:epos_col,l]*error_wrt_filter_output[:,:,i]).sum()\n",
        "            filter_update.append(temp/X.shape[2])  \n",
        "\n",
        "filter_update_array = np.array(filter_update)\n",
        "filter_update_array = np.resize(filter_update_array,(f.shape[2],f.shape[0],f.shape[1]))"
      ],
      "metadata": {
        "id": "kkXSCK33mgVs"
      },
      "execution_count": 57,
      "outputs": []
    },
    {
      "cell_type": "code",
      "source": [
        "for i in range(f.shape[2]):\n",
        "    f[:,:,i] = f[:,:,i] - lr*filter_update_array[i]"
      ],
      "metadata": {
        "id": "-5A6Wmk_mxoP"
      },
      "execution_count": 58,
      "outputs": []
    },
    {
      "cell_type": "code",
      "source": [
        "#EXAMPLE PYTHON SNIPPETS THAT MAY BE HELPFUL"
      ],
      "metadata": {
        "id": "_UF0Tu8PGLge"
      },
      "execution_count": 59,
      "outputs": []
    },
    {
      "cell_type": "code",
      "source": [
        "lst = ['string', 1, 2, 'another string']\n",
        "for element in lst:\n",
        "   print (type(element))"
      ],
      "metadata": {
        "colab": {
          "base_uri": "https://localhost:8080/"
        },
        "id": "tniz_naKutX4",
        "outputId": "a799c92f-95be-4ca2-a32a-44d8189d602b"
      },
      "execution_count": 60,
      "outputs": [
        {
          "output_type": "stream",
          "name": "stdout",
          "text": [
            "<class 'str'>\n",
            "<class 'int'>\n",
            "<class 'int'>\n",
            "<class 'str'>\n"
          ]
        }
      ]
    }
  ]
}
