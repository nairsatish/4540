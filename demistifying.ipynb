{
  "nbformat": 4,
  "nbformat_minor": 0,
  "metadata": {
    "colab": {
      "provenance": [],
      "authorship_tag": "ABX9TyNPt4N5lKFaqit35+xroszO",
      "include_colab_link": true
    },
    "kernelspec": {
      "name": "python3",
      "display_name": "Python 3"
    },
    "language_info": {
      "name": "python"
    }
  },
  "cells": [
    {
      "cell_type": "markdown",
      "metadata": {
        "id": "view-in-github",
        "colab_type": "text"
      },
      "source": [
        "<a href=\"https://colab.research.google.com/github/nairsatish/4540/blob/master/demistifying.ipynb\" target=\"_parent\"><img src=\"https://colab.research.google.com/assets/colab-badge.svg\" alt=\"Open In Colab\"/></a>"
      ]
    },
    {
      "cell_type": "code",
      "execution_count": null,
      "metadata": {
        "id": "u9-kC4IAg9U_"
      },
      "outputs": [],
      "source": [
        "#importing required libraries\n",
        "import numpy as np\n",
        "import pandas as pd\n",
        "import tqdm as tqdm\n",
        "from keras.datasets import mnist\n",
        "\n",
        "#loading dataset\n",
        "(x_train, y_train), (x_test,y_test) = mnist.load_data()\n",
        "\n",
        "#selecting a subset of data (200 images)\n",
        "x_train = x_train[:200]\n",
        "y=y_train[:200]\n",
        "\n",
        "X = x_train.T\n",
        "X = X/255\n",
        "\n",
        "y.resize((200,1))\n",
        "y = y.T\n",
        "#checking value\n",
        "pd.Series(y[0]).value_counts()\n"
      ]
    }
  ]
}