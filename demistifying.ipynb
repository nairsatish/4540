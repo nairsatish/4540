{
  "nbformat": 4,
  "nbformat_minor": 0,
  "metadata": {
    "colab": {
      "provenance": [],
      "authorship_tag": "ABX9TyNPt4N5lKFaqit35+xroszO",
      "include_colab_link": true
    },
    "kernelspec": {
      "name": "python3",
      "display_name": "Python 3"
    },
    "language_info": {
      "name": "python"
    }
  },
  "cells": [
    {
      "cell_type": "markdown",
      "metadata": {
        "id": "view-in-github",
        "colab_type": "text"
      },
      "source": [
        "<a href=\"https://colab.research.google.com/github/nairsatish/4540/blob/master/demistifying.ipynb\" target=\"_parent\"><img src=\"https://colab.research.google.com/assets/colab-badge.svg\" alt=\"Open In Colab\"/></a>"
      ]
    },
    {
      "cell_type": "code",
      "execution_count": 1,
      "metadata": {
        "id": "u9-kC4IAg9U_",
        "outputId": "871e049e-9c44-47f6-e916-5206c8c2bb58",
        "colab": {
          "base_uri": "https://localhost:8080/"
        }
      },
      "outputs": [
        {
          "output_type": "stream",
          "name": "stdout",
          "text": [
            "Downloading data from https://storage.googleapis.com/tensorflow/tf-keras-datasets/mnist.npz\n",
            "11490434/11490434 [==============================] - 1s 0us/step\n"
          ]
        },
        {
          "output_type": "execute_result",
          "data": {
            "text/plain": [
              "1    26\n",
              "9    23\n",
              "0    21\n",
              "4    21\n",
              "3    21\n",
              "7    21\n",
              "2    20\n",
              "6    19\n",
              "8    15\n",
              "5    13\n",
              "dtype: int64"
            ]
          },
          "metadata": {},
          "execution_count": 1
        }
      ],
      "source": [
        "#importing required libraries\n",
        "import numpy as np\n",
        "import pandas as pd\n",
        "import tqdm as tqdm\n",
        "from keras.datasets import mnist\n",
        "\n",
        "#loading dataset\n",
        "(x_train, y_train), (x_test,y_test) = mnist.load_data()\n",
        "\n",
        "#selecting a subset of data (200 images)\n",
        "x_train = x_train[:200]\n",
        "y=y_train[:200]\n",
        "\n",
        "X = x_train.T\n",
        "X = X/255\n",
        "\n",
        "y.resize((200,1))\n",
        "y = y.T\n",
        "#checking value\n",
        "pd.Series(y[0]).value_counts()\n"
      ]
    }
  ]
}