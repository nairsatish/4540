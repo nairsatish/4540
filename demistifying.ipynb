{
  "nbformat": 4,
  "nbformat_minor": 0,
  "metadata": {
    "colab": {
      "provenance": [],
      "include_colab_link": true
    },
    "kernelspec": {
      "name": "python3",
      "display_name": "Python 3"
    },
    "language_info": {
      "name": "python"
    }
  },
  "cells": [
    {
      "cell_type": "markdown",
      "metadata": {
        "id": "view-in-github",
        "colab_type": "text"
      },
      "source": [
        "<a href=\"https://colab.research.google.com/github/nairsatish/4540/blob/master/Copy_of_demistifying.ipynb\" target=\"_parent\"><img src=\"https://colab.research.google.com/assets/colab-badge.svg\" alt=\"Open In Colab\"/></a>"
      ]
    },
    {
      "cell_type": "markdown",
      "source": [
        "From article: https://www.analyticsvidhya.com/blog/2020/02/mathematics-behind-convolutional-neural-network/"
      ],
      "metadata": {
        "id": "LhqRCkmajzA-"
      }
    },
    {
      "cell_type": "code",
      "execution_count": 31,
      "metadata": {
        "id": "u9-kC4IAg9U_",
        "outputId": "223bdb32-acf3-4508-a34e-da8406f02eaa",
        "colab": {
          "base_uri": "https://localhost:8080/"
        }
      },
      "outputs": [
        {
          "output_type": "execute_result",
          "data": {
            "text/plain": [
              "1    26\n",
              "9    23\n",
              "0    21\n",
              "4    21\n",
              "3    21\n",
              "7    21\n",
              "2    20\n",
              "6    19\n",
              "8    15\n",
              "5    13\n",
              "dtype: int64"
            ]
          },
          "metadata": {},
          "execution_count": 31
        }
      ],
      "source": [
        "#importing required libraries\n",
        "import numpy as np\n",
        "import pandas as pd\n",
        "import tqdm as tqdm\n",
        "from keras.datasets import mnist\n",
        "\n",
        "#loading dataset\n",
        "(x_train, y_train), (x_test,y_test) = mnist.load_data()\n",
        "\n",
        "#selecting a subset of data (200 images)\n",
        "x_train = x_train[:200]\n",
        "y=y_train[:200]\n",
        "\n",
        "X = x_train.T\n",
        "X = X/255\n",
        "\n",
        "y.resize((200,1))\n",
        "y = y.T\n",
        "#checking value\n",
        "pd.Series(y[0]).value_counts()\n"
      ]
    },
    {
      "cell_type": "code",
      "source": [
        "#converting into binary classification\n",
        "for i in range(y.shape[1]):\n",
        "    if y[0][i] >4:\n",
        "        y[0][i] = 1\n",
        "    else:\n",
        "        y[0][i] = 0\n",
        "\n",
        "#checking value counts\n",
        "pd.Series(y[0]).value_counts()"
      ],
      "metadata": {
        "id": "8gJ_7y9hjiUL",
        "outputId": "a12f031f-8894-4b8f-8296-bb24d00c0f3b",
        "colab": {
          "base_uri": "https://localhost:8080/"
        }
      },
      "execution_count": 32,
      "outputs": [
        {
          "output_type": "execute_result",
          "data": {
            "text/plain": [
              "0    109\n",
              "1     91\n",
              "dtype: int64"
            ]
          },
          "metadata": {},
          "execution_count": 32
        }
      ]
    },
    {
      "cell_type": "code",
      "source": [
        "# initializing filter\n",
        "f=np.random.uniform(size=(3,5,5))\n",
        "f = f.T\n",
        "\n",
        "print('Filter 1', '\\n', f[:,:,0], '\\n')\n",
        "print('Filter 2', '\\n', f[:,:,1], '\\n')\n",
        "print('Filter 3', '\\n', f[:,:,2], '\\n')"
      ],
      "metadata": {
        "id": "cS2rffAbkbGv",
        "outputId": "77575adc-d08c-4a64-8d2f-6eba5907badd",
        "colab": {
          "base_uri": "https://localhost:8080/"
        }
      },
      "execution_count": 33,
      "outputs": [
        {
          "output_type": "stream",
          "name": "stdout",
          "text": [
            "Filter 1 \n",
            " [[0.87233134 0.18787556 0.18639263 0.51416072 0.46584328]\n",
            " [0.80166462 0.12395707 0.37648343 0.91319478 0.97135482]\n",
            " [0.803823   0.37329268 0.38782101 0.26833416 0.79150365]\n",
            " [0.90996067 0.03820499 0.37769827 0.50828163 0.45600691]\n",
            " [0.09660339 0.88387124 0.78196186 0.7593555  0.10130872]] \n",
            "\n",
            "Filter 2 \n",
            " [[0.33637767 0.81476963 0.09125322 0.13389002 0.29747035]\n",
            " [0.82782628 0.25310917 0.87420212 0.72481684 0.17534675]\n",
            " [0.39166597 0.47107484 0.78218228 0.53971981 0.1434986 ]\n",
            " [0.31790388 0.32699311 0.89403662 0.88463554 0.71985362]\n",
            " [0.16755737 0.55382599 0.13405806 0.0348854  0.84962825]] \n",
            "\n",
            "Filter 3 \n",
            " [[0.41269959 0.28026489 0.15211149 0.26370371 0.86436662]\n",
            " [0.71992771 0.16687693 0.48823687 0.17323525 0.00234341]\n",
            " [0.61091672 0.30180737 0.47335326 0.85508478 0.5781113 ]\n",
            " [0.11065004 0.38516223 0.11091295 0.12008973 0.85489349]\n",
            " [0.4903697  0.00354015 0.2202798  0.67954242 0.08779453]] \n",
            "\n"
          ]
        }
      ]
    },
    {
      "cell_type": "code",
      "source": [
        "X.shape, y.shape, f.shape"
      ],
      "metadata": {
        "id": "T96LNC9WkiTZ",
        "outputId": "02d85993-d155-403e-a247-c624d5452ded",
        "colab": {
          "base_uri": "https://localhost:8080/"
        }
      },
      "execution_count": 34,
      "outputs": [
        {
          "output_type": "execute_result",
          "data": {
            "text/plain": [
              "((28, 28, 200), (1, 200), (5, 5, 3))"
            ]
          },
          "metadata": {},
          "execution_count": 34
        }
      ]
    },
    {
      "cell_type": "code",
      "source": [
        "# Generating patches from images\n",
        "new_image = []\n",
        "\n",
        "# for number of images\n",
        "for k in range(X.shape[2]):\n",
        "    # sliding in horizontal direction\n",
        "    for i in range(X.shape[0]-f.shape[0]+1):\n",
        "        # sliding in vertical direction\n",
        "        for j in range(X.shape[1]-f.shape[1]+1):\n",
        "            new_image.append(X[:,:,k][i:i+f.shape[0],j:j+f.shape[1]])\n",
        "            \n",
        "# resizing the generated patches as per number of images\n",
        "new_image = np.array(new_image)\n",
        "new_image.resize((X.shape[2],int(new_image.shape[0]/X.shape[2]),new_image.shape[1],new_image.shape[2]))\n",
        "new_image.shape"
      ],
      "metadata": {
        "id": "6ywhXfB6kuoT",
        "outputId": "3c8347c1-b97d-47d8-cc66-d96d3632ad33",
        "colab": {
          "base_uri": "https://localhost:8080/"
        }
      },
      "execution_count": 35,
      "outputs": [
        {
          "output_type": "execute_result",
          "data": {
            "text/plain": [
              "(200, 576, 5, 5)"
            ]
          },
          "metadata": {},
          "execution_count": 35
        }
      ]
    },
    {
      "cell_type": "code",
      "source": [
        "# number of features in data set\n",
        "s_row = X.shape[0] - f.shape[0] + 1\n",
        "s_col = X.shape[1] - f.shape[1] + 1\n",
        "num_filter = f.shape[2]\n",
        "\n",
        "inputlayer_neurons = (s_row)*(s_col)*(num_filter)\n",
        "output_neurons = 1 \n",
        "\n",
        "# initializing weight\n",
        "wo=np.random.uniform(size=(inputlayer_neurons,output_neurons))"
      ],
      "metadata": {
        "id": "m5Z_o7R-k42q"
      },
      "execution_count": 36,
      "outputs": []
    },
    {
      "cell_type": "code",
      "source": [
        "# defining the Sigmoid Function\n",
        "def sigmoid (x):\n",
        "    return 1/(1 + np.exp(-x))\n",
        "\n",
        "# derivative of Sigmoid Function\n",
        "def derivatives_sigmoid(x):\n",
        "    return x * (1 - x)"
      ],
      "metadata": {
        "id": "ClD3UkFflGg_"
      },
      "execution_count": 37,
      "outputs": []
    },
    {
      "cell_type": "code",
      "source": [
        "# generating output of convolution layer\n",
        "filter_output = []\n",
        "# for each image\n",
        "for i in range(len(new_image)):\n",
        "    # apply each filter\n",
        "    for k in range(f.shape[2]):\n",
        "        # do element wise multiplication\n",
        "        for j in range(new_image.shape[1]):\n",
        "            filter_output.append((new_image[i][j]*f[:,:,k]).sum()) \n",
        "\n",
        "filter_output = np.resize(np.array(filter_output), (len(new_image),f.shape[2],new_image.shape[1]))\n",
        "\n",
        "# applying activation over convolution output\n",
        "filter_output_sigmoid = sigmoid(filter_output)\n",
        "\n",
        "filter_output.shape, filter_output_sigmoid.shape"
      ],
      "metadata": {
        "id": "2pBI6rV1lOWS",
        "outputId": "d702c4e4-951f-47e0-aafd-cb69ebd9792c",
        "colab": {
          "base_uri": "https://localhost:8080/"
        }
      },
      "execution_count": 38,
      "outputs": [
        {
          "output_type": "execute_result",
          "data": {
            "text/plain": [
              "((200, 3, 576), (200, 3, 576))"
            ]
          },
          "metadata": {},
          "execution_count": 38
        }
      ]
    },
    {
      "cell_type": "code",
      "source": [
        "# generating input for fully connected layer\n",
        "filter_output_sigmoid = filter_output_sigmoid.reshape((filter_output_sigmoid.shape[0],filter_output_sigmoid.shape[1]*filter_output_sigmoid.shape[2]))\n",
        "\n",
        "filter_output_sigmoid = filter_output_sigmoid.T\n",
        "\n",
        "# Linear trasnformation for fully Connected Layer\n",
        "output_layer_input= np.dot(wo.T,filter_output_sigmoid)\n",
        "output_layer_input = (output_layer_input - np.average(output_layer_input))/np.std(output_layer_input)\n",
        "\n",
        "# activation function\n",
        "output = sigmoid(output_layer_input)"
      ],
      "metadata": {
        "id": "EsjB2kx8lghB"
      },
      "execution_count": 39,
      "outputs": []
    },
    {
      "cell_type": "code",
      "source": [
        "#Error\n",
        "error = np.square(y-output)/2\n",
        "\n",
        "#Error w.r.t Output (Gradient)\n",
        "error_wrt_output = -(y-output)\n",
        "\n",
        "#Error w.r.t sigmoid transformation (output_layer_input)\n",
        "output_wrt_output_layer_input=output*(1-output)\n",
        "\n",
        "#Error w.r.t weight\n",
        "output_wrt_w=filter_output_sigmoid"
      ],
      "metadata": {
        "id": "GZyFsKI2lnaD"
      },
      "execution_count": 40,
      "outputs": []
    },
    {
      "cell_type": "code",
      "source": [
        "#delta change in w for fully connected layer\n",
        "delta_error_fcp = np.dot(output_wrt_w,(error_wrt_output * output_wrt_output_layer_input).T)\n",
        "lr = 0.01\n",
        "wo = wo - lr*delta_error_fcp"
      ],
      "metadata": {
        "id": "eVGznfPXltZr"
      },
      "execution_count": 41,
      "outputs": []
    },
    {
      "cell_type": "code",
      "source": [
        "#Error w.r.t sigmoid output\n",
        "output_layer_input_wrt_filter_output_sigmoid = wo.T\n",
        "\n",
        "#Error w.r.t sigmoid transformation\n",
        "filter_output_sigmoid_wrt_filter_output = filter_output_sigmoid * (1-filter_output_sigmoid)\n",
        "\n",
        "# cvalculating derivatives for backprop convolution\n",
        "error_wrt_filter_output = np.dot(output_layer_input_wrt_filter_output_sigmoid.T,error_wrt_output*output_wrt_output_layer_input) * filter_output_sigmoid_wrt_filter_output\n",
        "error_wrt_filter_output = np.average(error_wrt_filter_output, axis=1)\n",
        "error_wrt_filter_output = np.resize(error_wrt_filter_output,(X.shape[0]-f.shape[0]+1,X.shape[1]-f.shape[1]+1, f.shape[2]))"
      ],
      "metadata": {
        "id": "sHyJXUcql597"
      },
      "execution_count": 42,
      "outputs": []
    },
    {
      "cell_type": "code",
      "source": [
        "filter_update = []\n",
        "for i in range(f.shape[2]):\n",
        "    for j in range(f.shape[0]):\n",
        "        for k in range(f.shape[1]):            \n",
        "            temp = 0\n",
        "            spos_row = j\n",
        "            spos_col = k\n",
        "            epos_row = spos_row + s_row\n",
        "            epos_col = spos_col + s_col\n",
        "            for l in range(X.shape[2]):\n",
        "                temp = temp + (X[spos_row:epos_row,spos_col:epos_col,l]*error_wrt_filter_output[:,:,i]).sum()\n",
        "            filter_update.append(temp/X.shape[2])  \n",
        "\n",
        "filter_update_array = np.array(filter_update)\n",
        "filter_update_array = np.resize(filter_update_array,(f.shape[2],f.shape[0],f.shape[1]))"
      ],
      "metadata": {
        "id": "kkXSCK33mgVs"
      },
      "execution_count": 43,
      "outputs": []
    },
    {
      "cell_type": "code",
      "source": [
        "for i in range(f.shape[2]):\n",
        "    f[:,:,i] = f[:,:,i] - lr*filter_update_array[i]"
      ],
      "metadata": {
        "id": "-5A6Wmk_mxoP"
      },
      "execution_count": 44,
      "outputs": []
    },
    {
      "cell_type": "code",
      "source": [
        "lst = ['string', 1, 2, 'another string']\n",
        "for element in lst:\n",
        "   print type(element)"
      ],
      "metadata": {
        "id": "tniz_naKutX4"
      },
      "execution_count": null,
      "outputs": []
    }
  ]
}
