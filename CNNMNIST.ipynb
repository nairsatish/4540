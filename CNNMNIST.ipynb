{
  "cells": [
    {
      "cell_type": "markdown",
      "metadata": {
        "id": "view-in-github",
        "colab_type": "text"
      },
      "source": [
        "<a href=\"https://colab.research.google.com/github/nairsatish/4540/blob/master/CNNMNIST.ipynb\" target=\"_parent\"><img src=\"https://colab.research.google.com/assets/colab-badge.svg\" alt=\"Open In Colab\"/></a>"
      ]
    },
    {
      "cell_type": "code",
      "execution_count": null,
      "id": "7501f5d9",
      "metadata": {
        "pycharm": {
          "name": "#%%\n"
        },
        "id": "7501f5d9"
      },
      "outputs": [],
      "source": [
        "RunningInCOLAB = 'google.colab' in str(get_ipython())\n",
        "\n",
        "if RunningInCOLAB:\n",
        "    !pip install torch, torchvision"
      ]
    },
    {
      "cell_type": "code",
      "execution_count": null,
      "id": "436b45d6",
      "metadata": {
        "pycharm": {
          "name": "#%%\n"
        },
        "id": "436b45d6"
      },
      "outputs": [],
      "source": [
        "import torch\n",
        "import torch.nn as nn\n",
        "import torchvision\n",
        "from torchvision.transforms import ToTensor"
      ]
    },
    {
      "cell_type": "markdown",
      "id": "aa108e06",
      "metadata": {
        "pycharm": {
          "name": "#%% md\n"
        },
        "id": "aa108e06"
      },
      "source": [
        "## CNN Details\n",
        "\n",
        "The kernel/filter/weight matrix is a 5x5 matrix. Out channels corresponds to the number of created feature maps, and therefore impacts the number of kernels.\n",
        "\n",
        "MaxPool2D is a 2x2 sliding window taking the maximum value in that window.\n",
        "\n",
        "Since this is the MNIST dataset, each image is 28x28. If we take a batch size of 1, this means our structure is:\n",
        "\n",
        "Input (28x28) **->**\n",
        "&nbsp;&nbsp;&nbsp;&nbsp;&nbsp;&nbsp;Conv2D (16x28x28) **->** ReLU (16x28x28) **->** MaxPool2D (16x14x14) **->**\n",
        "&nbsp;&nbsp;&nbsp;&nbsp;&nbsp;&nbsp;Conv2D (32x14x14) **->** RelU (32x14x14) **->** MaxPool2D (32x7x7) **->**\n",
        "&nbsp;&nbsp;&nbsp;&nbsp;&nbsp;&nbsp;Flatten (1568x1) **->** FCN **->**\n",
        "Returned Output (10x1)"
      ]
    },
    {
      "cell_type": "code",
      "execution_count": null,
      "id": "f7ee432c-e3cb-4b41-9d2e-126c475ae261",
      "metadata": {
        "id": "f7ee432c-e3cb-4b41-9d2e-126c475ae261"
      },
      "outputs": [],
      "source": [
        "#Derived from https://medium.com/@nutanbhogendrasharma/pytorch-convolutional-neural-network-with-mnist-dataset-4e8a4265e118\n",
        "\n",
        "class ExampleCNN(nn.Module):\n",
        "    def __init__(self):\n",
        "        super(ExampleCNN, self).__init__()\n",
        "        self.conv1 = nn.Conv2d(in_channels=1, out_channels=16, kernel_size=(5,5), stride=(1,1), padding=2)\n",
        "        self.activation = nn.ReLU()\n",
        "        self.pool2d = nn.MaxPool2d(kernel_size=2)\n",
        "        self.conv2 = nn.Conv2d(in_channels=16, out_channels=32, kernel_size=(5,5), stride=(1,1), padding=2)\n",
        "        self.fcn = nn.Linear(32 * 7 * 7, 10)\n",
        "        \n",
        "    def forward(self, x):\n",
        "        x = self.pool2d(self.activation(self.conv1(x)))\n",
        "        x = self.pool2d(self.activation(self.conv2(x)))\n",
        "        \n",
        "        x = x.view(x.size(0), -1)\n",
        "        \n",
        "        out = self.fcn(x)\n",
        "        return out"
      ]
    },
    {
      "cell_type": "code",
      "execution_count": null,
      "id": "9fe06a3b-9d23-4a53-99f5-6ac33d827146",
      "metadata": {
        "id": "9fe06a3b-9d23-4a53-99f5-6ac33d827146"
      },
      "outputs": [],
      "source": [
        "from torch.utils.data import DataLoader\n",
        "\n",
        "\"\"\"\n",
        "Running in COLAB assumes you've not imported the entire repository and simply saves the data with the notebook\n",
        "\n",
        "Running in Jupyter Notebook assumes you have imported the entire repository and stores it in the data folder\n",
        "\"\"\"\n",
        "if RunningInCOLAB:\n",
        "    train_data = torchvision.datasets.MNIST('data', train=True, transform=ToTensor(), download=True)\n",
        "    test_data = torchvision.datasets.MNIST('data', train=False, transform=ToTensor(), download=True)\n",
        "else:\n",
        "    train_data = torchvision.datasets.MNIST('../../data', train=True, transform=ToTensor(), download=True)\n",
        "    test_data = torchvision.datasets.MNIST('../../data', train=False, transform=ToTensor(), download=True)\n",
        "batch_size = 124\n",
        "train_loader = DataLoader(train_data, batch_size=batch_size, shuffle=True)\n",
        "test_loader = DataLoader(test_data, batch_size=batch_size, shuffle=False)\n",
        "loaders = {'train' : train_loader, 'test' : test_loader}"
      ]
    },
    {
      "cell_type": "code",
      "execution_count": null,
      "id": "987507e2-89bd-4a7f-81d5-916745046a61",
      "metadata": {
        "id": "987507e2-89bd-4a7f-81d5-916745046a61",
        "outputId": "f835c8a9-be24-49dd-90c5-8cbb9a67ba07"
      },
      "outputs": [
        {
          "name": "stdout",
          "output_type": "stream",
          "text": [
            "Epoch [1/10], Step [100/484], Loss: 0.2698\n",
            "Epoch [1/10], Step [200/484], Loss: 0.0700\n",
            "Epoch [1/10], Step [300/484], Loss: 0.0377\n",
            "Epoch [1/10], Step [400/484], Loss: 0.0612\n",
            "Epoch [2/10], Step [100/484], Loss: 0.0944\n",
            "Epoch [2/10], Step [200/484], Loss: 0.0725\n",
            "Epoch [2/10], Step [300/484], Loss: 0.0393\n",
            "Epoch [2/10], Step [400/484], Loss: 0.0152\n",
            "Epoch [3/10], Step [100/484], Loss: 0.0182\n",
            "Epoch [3/10], Step [200/484], Loss: 0.0204\n",
            "Epoch [3/10], Step [300/484], Loss: 0.0591\n",
            "Epoch [3/10], Step [400/484], Loss: 0.0301\n",
            "Epoch [4/10], Step [100/484], Loss: 0.0117\n",
            "Epoch [4/10], Step [200/484], Loss: 0.0238\n",
            "Epoch [4/10], Step [300/484], Loss: 0.0093\n",
            "Epoch [4/10], Step [400/484], Loss: 0.0382\n",
            "Epoch [5/10], Step [100/484], Loss: 0.0427\n",
            "Epoch [5/10], Step [200/484], Loss: 0.0283\n",
            "Epoch [5/10], Step [300/484], Loss: 0.0803\n",
            "Epoch [5/10], Step [400/484], Loss: 0.0670\n",
            "Epoch [6/10], Step [100/484], Loss: 0.0191\n",
            "Epoch [6/10], Step [200/484], Loss: 0.0217\n",
            "Epoch [6/10], Step [300/484], Loss: 0.0302\n",
            "Epoch [6/10], Step [400/484], Loss: 0.0633\n",
            "Epoch [7/10], Step [100/484], Loss: 0.0305\n",
            "Epoch [7/10], Step [200/484], Loss: 0.0760\n",
            "Epoch [7/10], Step [300/484], Loss: 0.0045\n",
            "Epoch [7/10], Step [400/484], Loss: 0.0916\n",
            "Epoch [8/10], Step [100/484], Loss: 0.0126\n",
            "Epoch [8/10], Step [200/484], Loss: 0.0086\n",
            "Epoch [8/10], Step [300/484], Loss: 0.0952\n",
            "Epoch [8/10], Step [400/484], Loss: 0.0012\n",
            "Epoch [9/10], Step [100/484], Loss: 0.0026\n",
            "Epoch [9/10], Step [200/484], Loss: 0.1047\n",
            "Epoch [9/10], Step [300/484], Loss: 0.0157\n",
            "Epoch [9/10], Step [400/484], Loss: 0.0323\n",
            "Epoch [10/10], Step [100/484], Loss: 0.0501\n",
            "Epoch [10/10], Step [200/484], Loss: 0.0512\n",
            "Epoch [10/10], Step [300/484], Loss: 0.0128\n",
            "Epoch [10/10], Step [400/484], Loss: 0.0041\n"
          ]
        }
      ],
      "source": [
        "from torch.autograd import Variable\n",
        "from torch import optim\n",
        "\n",
        "cnn = ExampleCNN()\n",
        "\n",
        "\n",
        "num_epochs = 10\n",
        "\n",
        "loss_func = nn.CrossEntropyLoss()   \n",
        "optimizer = optim.Adam(cnn.parameters(), lr = 0.01)   \n",
        "\n",
        "def train(epochs, network, data_loaders):\n",
        "    \n",
        "    network.train()\n",
        "        \n",
        "    # Train the model\n",
        "    total_step = len(data_loaders['train'])\n",
        "        \n",
        "    for epoch in range(epochs):\n",
        "        for i, (x, y) in enumerate(data_loaders['train']):\n",
        "            \n",
        "            # gives batch data, normalize x when iterate train_loader\n",
        "            b_x = Variable(x)   # batch x\n",
        "            b_y = Variable(y)   # batch y\n",
        "            output = network(b_x)\n",
        "            loss = loss_func(output, b_y)\n",
        "            \n",
        "            # clear gradients for this training step   \n",
        "            optimizer.zero_grad()           \n",
        "            \n",
        "            # backpropagation, compute gradients \n",
        "            loss.backward()                # apply gradients             \n",
        "            optimizer.step()                \n",
        "            \n",
        "            if (i+1) % 100 == 0:\n",
        "                print ('Epoch [{}/{}], Step [{}/{}], Loss: {:.4f}'\n",
        "                       .format(epoch + 1, epochs, i + 1, total_step, loss.item()))\n",
        "                pass\n",
        "        pass\n",
        "    pass\n",
        "\n",
        "train(num_epochs, cnn, loaders)"
      ]
    },
    {
      "cell_type": "code",
      "execution_count": null,
      "id": "ac145461-653a-41bb-bebc-2408724640f6",
      "metadata": {
        "id": "ac145461-653a-41bb-bebc-2408724640f6",
        "outputId": "cdbb5d97-4cff-44b0-ebd0-cdff35b5ef06"
      },
      "outputs": [
        {
          "name": "stdout",
          "output_type": "stream",
          "text": [
            "Test Accuracy of the model on the 10000 test images: 1.00\n"
          ]
        }
      ],
      "source": [
        "def test():\n",
        "    # Test the model\n",
        "    cnn.eval()    \n",
        "    \n",
        "    with torch.no_grad():\n",
        "        for x, y in loaders['test']:\n",
        "            out = cnn(x)\n",
        "            y_prediction = torch.max(out, 1)[1].data.squeeze()\n",
        "            accuracy = (y_prediction == y).sum().item() / float(y.size(0))\n",
        "            pass\n",
        "        print('Test Accuracy of the model on the 10000 test images: %.2f' % accuracy)\n",
        "    \n",
        "    pass\n",
        "test()"
      ]
    },
    {
      "cell_type": "code",
      "execution_count": null,
      "id": "776d1011-c7ca-4d8e-92dc-393480073f3b",
      "metadata": {
        "id": "776d1011-c7ca-4d8e-92dc-393480073f3b",
        "outputId": "f76db520-494d-4127-e4e2-5013a995068f"
      },
      "outputs": [
        {
          "name": "stdout",
          "output_type": "stream",
          "text": [
            "Prediction number: [7 2 1 0 4 1 4 9 5 9]\n",
            "Actual number: [7 2 1 0 4 1 4 9 5 9]\n"
          ]
        }
      ],
      "source": [
        "sample = next(iter(loaders['test']))\n",
        "images, labels = sample\n",
        "actual_number = labels[:10].numpy()\n",
        "test_output = cnn(images[:10])\n",
        "y_predictions = torch.max(test_output, 1)[1].data.numpy().squeeze()\n",
        "print(f'Prediction number: {y_predictions}')\n",
        "print(f'Actual number: {actual_number}')"
      ]
    },
    {
      "cell_type": "code",
      "execution_count": null,
      "id": "85b681ed-aa09-49e6-b771-a2ffea08d52b",
      "metadata": {
        "id": "85b681ed-aa09-49e6-b771-a2ffea08d52b",
        "outputId": "a35f2194-d94b-4ba1-e47c-6d3010e084a0"
      },
      "outputs": [
        {
          "name": "stdout",
          "output_type": "stream",
          "text": [
            "Parameter containing:\n",
            "tensor([[[[-5.2314e-02, -4.4962e-02,  3.4517e-01, -1.6969e-01,  8.1962e-02],\n",
            "          [ 6.6692e-01,  6.2437e-01,  6.4720e-01, -1.2462e-03,  1.5586e-01],\n",
            "          [ 3.8263e-02, -3.5650e-01, -4.9589e-01,  1.8657e-01,  1.0887e-02],\n",
            "          [-8.4984e-01, -1.1462e+00, -1.0315e+00, -2.7589e-01, -9.8284e-04],\n",
            "          [ 1.0154e-01, -1.7826e-01,  2.5176e-01,  4.5807e-01, -7.7290e-02]]],\n",
            "\n",
            "\n",
            "        [[[ 4.2154e-01,  3.2002e-01,  2.4328e-01,  2.8072e-01,  3.8746e-01],\n",
            "          [-1.5591e-01, -8.1850e-02,  1.1685e-01,  2.3595e-02,  2.8855e-01],\n",
            "          [-9.2211e-01,  6.9006e-02,  4.3811e-01,  1.5730e-01, -5.0759e-01],\n",
            "          [-1.3557e+00, -1.7864e+00, -1.5644e+00, -1.3742e+00, -9.1785e-01],\n",
            "          [ 1.4520e-02, -5.3799e-01, -4.7643e-01,  1.1958e-01,  2.1966e-01]]],\n",
            "\n",
            "\n",
            "        [[[ 6.6441e-02, -8.0177e-01,  1.1223e-01,  2.4234e-01, -4.9332e-01],\n",
            "          [-8.0823e-01, -4.8779e-01,  1.5859e-01,  8.1828e-02, -7.8185e-01],\n",
            "          [-6.5879e-01,  3.2261e-01,  4.2755e-01, -1.0774e-01, -6.3911e-01],\n",
            "          [-7.1843e-01,  2.0340e-01,  2.9487e-01, -1.9096e-01, -6.2563e-01],\n",
            "          [-3.3135e-02,  1.1250e-01,  1.7854e-01, -9.0764e-02, -6.1028e-02]]],\n",
            "\n",
            "\n",
            "        [[[ 3.9836e-01, -1.0709e-01,  9.2920e-02, -2.5437e-01, -8.0053e-01],\n",
            "          [ 2.3566e-01, -4.5723e-02,  2.9497e-01,  2.9309e-01, -1.1583e+00],\n",
            "          [-2.3712e-01,  1.9798e-01,  3.6311e-01,  6.0874e-01, -2.9311e-01],\n",
            "          [-3.3417e-02, -6.6919e-01, -2.8873e-01,  1.7869e-01,  2.4930e-01],\n",
            "          [ 1.9962e-01, -8.1844e-02, -5.1290e-02,  1.8650e-01,  3.9334e-01]]],\n",
            "\n",
            "\n",
            "        [[[ 1.9709e-01, -5.6634e-01,  7.1985e-02,  3.8541e-01, -2.4808e-01],\n",
            "          [-5.6763e-01, -5.7054e-01,  1.1163e-02,  7.1973e-02, -3.0952e-01],\n",
            "          [-1.6107e-01, -1.4126e-01,  4.7681e-04, -1.6574e-01, -2.2287e-01],\n",
            "          [-2.8469e-01, -5.1817e-01,  1.0466e-01, -1.0573e-01,  2.0137e-01],\n",
            "          [ 4.3992e-01,  6.8949e-02,  2.1971e-01, -4.0865e-02,  1.6789e-01]]],\n",
            "\n",
            "\n",
            "        [[[-1.0217e-02,  3.5948e-01,  3.6643e-02,  1.1268e-01, -2.2168e-01],\n",
            "          [ 3.5960e-01,  1.9517e-01, -8.3907e-01, -4.1388e-01, -8.9850e-02],\n",
            "          [-2.2360e-01, -9.0055e-01, -7.1515e-01,  2.9716e-01,  8.5160e-01],\n",
            "          [-2.9865e-01,  9.5121e-03,  3.8963e-01,  5.7236e-01,  6.8964e-02],\n",
            "          [ 4.6661e-01,  1.5152e-02,  6.3788e-02, -3.7715e-01, -3.6911e-01]]],\n",
            "\n",
            "\n",
            "        [[[-2.1819e-01,  8.1234e-02,  3.7668e-01,  3.1341e-02,  4.1162e-01],\n",
            "          [-1.5234e+00, -7.7645e-01,  3.0839e-02,  2.7461e-01,  9.4243e-02],\n",
            "          [-1.7521e-01, -5.4659e-01, -2.9603e-01,  5.9092e-02,  3.4111e-01],\n",
            "          [-5.9282e-02, -4.6785e-01, -8.9066e-01, -7.6176e-01,  1.8779e-01],\n",
            "          [-5.5126e-01,  5.4628e-01,  2.7947e-01, -2.5654e-01, -4.3504e-01]]],\n",
            "\n",
            "\n",
            "        [[[ 1.5214e-02, -4.5916e-01, -6.9232e-01,  2.0175e-01, -3.8735e-01],\n",
            "          [-3.5279e-01, -1.9224e-01, -3.2944e-01, -3.2450e-02, -3.2653e-01],\n",
            "          [-1.7432e-01, -4.3952e-01, -1.1188e-01,  1.5402e-02, -2.3743e-01],\n",
            "          [-3.4744e-01, -5.2483e-01, -1.8056e-01, -4.4826e-01, -3.4427e-01],\n",
            "          [-3.4500e-01, -2.9111e-01, -3.6284e-01, -6.5751e-01,  2.3189e-01]]],\n",
            "\n",
            "\n",
            "        [[[ 1.0708e-01,  1.4061e-01,  2.2857e-01,  3.0097e-01,  9.0425e-02],\n",
            "          [-1.0023e-01, -7.6280e-01, -7.6624e-01, -4.6811e-01, -6.5007e-03],\n",
            "          [ 1.4772e-01, -2.0445e-01, -4.8390e-01, -3.3340e-01, -3.8581e-01],\n",
            "          [ 2.5432e-01,  2.2481e-01,  2.5633e-02, -1.9424e-01, -2.6153e-01],\n",
            "          [-2.1101e-02,  6.3449e-01,  5.1524e-01,  4.6850e-01,  2.7454e-01]]],\n",
            "\n",
            "\n",
            "        [[[-4.8237e-02,  1.5749e-01, -4.2536e-03, -9.8079e-01, -1.0806e+00],\n",
            "          [-3.9503e-01,  2.4690e-01, -7.5107e-01, -3.2966e-01, -1.3104e-02],\n",
            "          [-7.6040e-01, -7.7992e-01, -5.7702e-01,  1.7793e-01,  2.5844e-01],\n",
            "          [-4.4706e-01, -8.8595e-01,  4.1910e-02,  1.1613e-01,  2.3578e-01],\n",
            "          [-8.8320e-01, -4.2609e-01,  8.3399e-02,  1.8272e-01,  3.4769e-01]]],\n",
            "\n",
            "\n",
            "        [[[-4.6598e-01, -5.9047e-01,  5.8770e-01, -7.0241e-02, -6.5947e-01],\n",
            "          [-1.0620e+00,  2.5463e-02,  3.4802e-01,  4.2569e-01, -1.5695e+00],\n",
            "          [-1.4244e+00, -4.2276e-01,  2.1957e-01, -3.2328e-01, -1.0439e+00],\n",
            "          [-1.1056e+00, -8.7965e-01, -1.7748e-01,  3.3532e-02, -1.6049e-01],\n",
            "          [-6.4659e-01, -8.6958e-01, -7.0715e-01, -4.6350e-01,  7.7166e-01]]],\n",
            "\n",
            "\n",
            "        [[[-8.7057e-02, -7.5119e-01, -3.2583e-01,  1.5261e-01,  2.4984e-01],\n",
            "          [ 1.2089e-01, -2.6217e-01, -3.2291e-01,  1.9060e-01, -4.4410e-02],\n",
            "          [ 2.4863e-01,  7.6230e-02, -3.7927e-01, -3.0202e-02, -2.0708e-01],\n",
            "          [-1.5689e-01,  1.4444e-01, -6.1805e-03, -2.6353e-01, -8.0075e-02],\n",
            "          [-5.4552e-01, -1.9942e-01,  4.4993e-01,  1.8002e-01, -2.7696e-01]]],\n",
            "\n",
            "\n",
            "        [[[-1.7081e-02,  3.5557e-01,  2.0598e-01, -1.5703e-01,  1.0784e-01],\n",
            "          [-1.3272e-01,  1.6878e-01,  2.1873e-01,  1.3239e-01,  6.6993e-02],\n",
            "          [ 1.1646e-01,  3.0136e-01,  4.1422e-03, -6.8028e-02,  1.7719e-02],\n",
            "          [-6.7384e-02,  4.0542e-01, -2.8645e-03,  7.6033e-02, -6.6076e-01],\n",
            "          [ 2.7285e-01,  1.7602e-01,  1.4893e-01, -7.4362e-02, -1.1441e+00]]],\n",
            "\n",
            "\n",
            "        [[[-4.9268e-01, -9.0382e-01, -2.3776e-01,  1.9932e-01, -1.7354e-02],\n",
            "          [-4.0442e-01, -9.0758e-01, -8.9254e-01,  2.7670e-01,  2.5416e-01],\n",
            "          [ 2.5842e-01, -9.2352e-01, -8.7224e-01, -2.2110e-01,  4.2049e-01],\n",
            "          [ 4.0295e-01, -4.0631e-01, -4.0364e-01, -1.4374e-01,  1.8859e-01],\n",
            "          [ 1.1228e-01, -2.2553e-01, -1.1783e-01, -8.4910e-02,  3.4211e-01]]],\n",
            "\n",
            "\n",
            "        [[[ 5.9328e-01,  1.0583e-02, -3.3207e-01, -4.4176e-01,  1.1145e-02],\n",
            "          [ 6.9398e-01,  8.2622e-02, -1.2001e+00, -5.1843e-02,  2.0287e-01],\n",
            "          [ 1.9426e-01, -1.1372e-01, -1.3386e+00,  4.1488e-01,  2.1394e-01],\n",
            "          [-1.0496e-02, -2.3552e+00,  1.9461e-01, -2.1646e-02, -2.8674e-02],\n",
            "          [-1.7845e+00, -8.4455e-01, -3.2249e-01,  4.3354e-02,  3.8862e-01]]],\n",
            "\n",
            "\n",
            "        [[[-2.9961e-02, -4.4835e-01, -6.5649e-01, -1.0517e+00, -3.1237e-01],\n",
            "          [ 5.5588e-01, -3.3225e-01, -2.4750e-01, -5.1734e-01,  6.5349e-02],\n",
            "          [ 4.9525e-01, -1.2475e-01, -4.1364e-01, -3.3559e-01,  2.8362e-01],\n",
            "          [ 1.0957e-01,  8.5700e-02, -5.5139e-01, -1.1434e+00, -3.9870e-01],\n",
            "          [ 4.7386e-02,  4.5118e-01,  2.1310e-01,  5.7227e-02,  4.3179e-02]]]],\n",
            "       requires_grad=True)\n"
          ]
        }
      ],
      "source": [
        "print(cnn.conv1.weight)"
      ]
    },
    {
      "cell_type": "code",
      "execution_count": null,
      "id": "e93bbc4c-8e07-4e97-a4fc-c53cd2502e97",
      "metadata": {
        "id": "e93bbc4c-8e07-4e97-a4fc-c53cd2502e97",
        "outputId": "ef4d8d4f-c242-4796-c84f-52539c7e6d2f"
      },
      "outputs": [
        {
          "data": {
            "image/png": "[encoded data removed]",
            "text/plain": [
              "<Figure size 432x288 with 1 Axes>"
            ]
          },
          "metadata": {
            "needs_background": "light"
          },
          "output_type": "display_data"
        }
      ],
      "source": [
        "import matplotlib.pyplot as plt\n",
        "import numpy as np\n",
        "\n",
        "layer1_filter = 0\n",
        "\n",
        "plt.imshow(np.squeeze(cnn.conv1.weight.detach().numpy()[layer1_filter,:,:,:]), cmap='gray')\n",
        "plt.show()"
      ]
    },
    {
      "cell_type": "code",
      "execution_count": null,
      "id": "4a6777dd-6525-49cb-957b-e7f1afb7a6ca",
      "metadata": {
        "id": "4a6777dd-6525-49cb-957b-e7f1afb7a6ca",
        "outputId": "4ca6f7d5-5913-4774-94b6-170701464777"
      },
      "outputs": [
        {
          "data": {
            "image/png": "[encoded data removed]",
            "text/plain": [
              "<Figure size 432x288 with 1 Axes>"
            ]
          },
          "metadata": {
            "needs_background": "light"
          },
          "output_type": "display_data"
        }
      ],
      "source": [
        "layer2_filter = 0\n",
        "\n",
        "plt.imshow(cnn.conv2.weight.detach().numpy()[layer2_filter, layer1_filter, :, :], cmap='gray')\n",
        "plt.show()"
      ]
    },
    {
      "cell_type": "code",
      "execution_count": null,
      "id": "be6a3340-7d57-47f4-a191-0c774eb72faa",
      "metadata": {
        "id": "be6a3340-7d57-47f4-a191-0c774eb72faa"
      },
      "outputs": [],
      "source": [
        ""
      ]
    }
  ],
  "metadata": {
    "kernelspec": {
      "display_name": "Python 3 (ipykernel)",
      "language": "python",
      "name": "python3"
    },
    "language_info": {
      "codemirror_mode": {
        "name": "ipython",
        "version": 3
      },
      "file_extension": ".py",
      "mimetype": "text/x-python",
      "name": "python",
      "nbconvert_exporter": "python",
      "pygments_lexer": "ipython3",
      "version": "3.8.10"
    },
    "colab": {
      "name": "CNNMNIST.ipynb",
      "provenance": [],
      "include_colab_link": true
    }
  },
  "nbformat": 4,
  "nbformat_minor": 5
}