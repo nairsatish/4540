{
  "nbformat": 4,
  "nbformat_minor": 0,
  "metadata": {
    "colab": {
      "provenance": [],
      "authorship_tag": "ABX9TyMyAr3PBbRgE8K0AJbYPGO4",
      "include_colab_link": true
    },
    "kernelspec": {
      "name": "python3",
      "display_name": "Python 3"
    },
    "language_info": {
      "name": "python"
    }
  },
  "cells": [
    {
      "cell_type": "markdown",
      "metadata": {
        "id": "view-in-github",
        "colab_type": "text"
      },
      "source": [
        "<a href=\"https://colab.research.google.com/github/nairsatish/4540/blob/master/XOR_PyTorchPrevious.ipynb\" target=\"_parent\"><img src=\"https://colab.research.google.com/assets/colab-badge.svg\" alt=\"Open In Colab\"/></a>"
      ]
    },
    {
      "cell_type": "code",
      "execution_count": null,
      "metadata": {
        "colab": {
          "base_uri": "https://localhost:8080/"
        },
        "id": "NziucDl6yuoW",
        "outputId": "178efdd8-5a3e-4edd-aaaf-ed58e561303a"
      },
      "outputs": [
        {
          "output_type": "execute_result",
          "data": {
            "text/plain": [
              "<torch._C.Generator at 0x7f9f24a36270>"
            ]
          },
          "metadata": {},
          "execution_count": 13
        }
      ],
      "source": [
        "import torch\n",
        "from torch.autograd import Variable\n",
        "import torch.nn as nn\n",
        "import torch.nn.functional as F\n",
        "import torch.optim as optim\n",
        "import numpy as np\n",
        "import matplotlib.pyplot as plt\n",
        "%matplotlib inline\n",
        "torch.manual_seed(2)"
      ]
    },
    {
      "cell_type": "code",
      "source": [
        "X = torch.Tensor([[0,0],[0,1], [1,0], [1,1]])\n",
        "Y = torch.Tensor([0,1,1,0]).view(-1,1)"
      ],
      "metadata": {
        "id": "rXjDBsiOy8lV"
      },
      "execution_count": null,
      "outputs": []
    },
    {
      "cell_type": "code",
      "source": [
        "class XOR(nn.Module):\n",
        "    def __init__(self, input_dim = 2, output_dim=1):\n",
        "        super(XOR, self).__init__()\n",
        "        self.lin1 = nn.Linear(input_dim, 2)\n",
        "        self.lin2 = nn.Linear(2, output_dim)\n",
        "    \n",
        "    def forward(self, x):\n",
        "        x = self.lin1(x)\n",
        "        x = F.sigmoid(x)\n",
        "        x = self.lin2(x)\n",
        "        return x"
      ],
      "metadata": {
        "id": "Qwl3sHRnzDQQ"
      },
      "execution_count": null,
      "outputs": []
    },
    {
      "cell_type": "code",
      "source": [
        "model = XOR()"
      ],
      "metadata": {
        "id": "IXcZnxYRzJ58"
      },
      "execution_count": null,
      "outputs": []
    },
    {
      "cell_type": "code",
      "source": [
        "def weights_init(model):\n",
        "    for m in model.modules():\n",
        "        if isinstance(m, nn.Linear):\n",
        "            # initialize the weight tensor, here we use a normal distribution\n",
        "            m.weight.data.normal_(0, 1)\n",
        "\n",
        "weights_init(model)"
      ],
      "metadata": {
        "id": "lIgvHHsszLo1"
      },
      "execution_count": null,
      "outputs": []
    },
    {
      "cell_type": "code",
      "source": [
        "loss_func = nn.MSELoss()"
      ],
      "metadata": {
        "id": "yqkxJx0CzPce"
      },
      "execution_count": null,
      "outputs": []
    },
    {
      "cell_type": "code",
      "source": [
        "optimizer = optim.SGD(model.parameters(), lr=0.02, momentum=0.9)"
      ],
      "metadata": {
        "id": "zC-ffgFPzTb5"
      },
      "execution_count": null,
      "outputs": []
    },
    {
      "cell_type": "code",
      "source": [
        "epochs = 2001\n",
        "steps = X.size(0)\n",
        "for i in range(epochs):\n",
        "    for j in range(steps):\n",
        "        data_point = np.random.randint(X.size(0))\n",
        "        x_var = Variable(X[data_point], requires_grad=False)\n",
        "        y_var = Variable(Y[data_point], requires_grad=False)\n",
        "        \n",
        "        optimizer.zero_grad()\n",
        "        y_hat = model(x_var)\n",
        "        loss = loss_func.forward(y_hat, y_var)\n",
        "        loss.backward()\n",
        "        optimizer.step()\n",
        "        \n",
        "    #if i % 500 == 0:\n",
        "        # print \"Epoch: {0}, Loss: {1}, \".format(i, loss.data.numpy()[0])"
      ],
      "metadata": {
        "id": "wB8zkbQEzXyo"
      },
      "execution_count": null,
      "outputs": []
    },
    {
      "cell_type": "code",
      "source": [
        "model_params = list(model.parameters())"
      ],
      "metadata": {
        "id": "auCBHzWf136b"
      },
      "execution_count": null,
      "outputs": []
    },
    {
      "cell_type": "code",
      "source": [
        "model_weights = model_params[0].data.numpy()\n",
        "model_bias = model_params[1].data.numpy()\n",
        "\n",
        "plt.scatter(X.numpy()[[0,-1], 0], X.numpy()[[0, -1], 1], s=50)\n",
        "plt.scatter(X.numpy()[[1,2], 0], X.numpy()[[1, 2], 1], c='red', s=50)\n",
        "\n",
        "x_1 = np.arange(-0.1, 1.1, 0.1)\n",
        "y_1 = ((x_1 * model_weights[0,0]) + model_bias[0]) / (-model_weights[0,1])\n",
        "plt.plot(x_1, y_1)\n",
        "\n",
        "x_2 = np.arange(-0.1, 1.1, 0.1)\n",
        "y_2 = ((x_2 * model_weights[1,0]) + model_bias[1]) / (-model_weights[1,1])\n",
        "plt.plot(x_2, y_2)\n",
        "plt.legend([\"neuron_1\", \"neuron_2\"], loc=8)\n",
        "plt.show()"
      ],
      "metadata": {
        "colab": {
          "base_uri": "https://localhost:8080/",
          "height": 265
        },
        "id": "hdUTc_ji18WA",
        "outputId": "0e988165-5dac-4b8f-b5c1-adaa7f6ea935"
      },
      "execution_count": null,
      "outputs": [
        {
          "output_type": "display_data",
          "data": {
            "text/plain": [
              "<Figure size 432x288 with 1 Axes>"
            ],
            "image/png": "[encoded data removed]"
          },
          "metadata": {
            "needs_background": "light"
          }
        }
      ]
    }
  ]
}